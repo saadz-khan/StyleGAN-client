{
  "nbformat": 4,
  "nbformat_minor": 0,
  "metadata": {
    "colab": {
      "name": "StyleGAN2-Colab-Train.ipynb",
      "provenance": [],
      "collapsed_sections": [
        "v29HP9o_EN1p"
      ],
      "machine_shape": "hm",
      "include_colab_link": true
    },
    "kernelspec": {
      "name": "python3",
      "display_name": "Python 3"
    },
    "accelerator": "GPU"
  },
  "cells": [
    {
      "cell_type": "markdown",
      "metadata": {
        "id": "view-in-github",
        "colab_type": "text"
      },
      "source": [
        "<a href=\"https://colab.research.google.com/github/saadz-khan/StyleGAN-client/blob/master/StyleGAN2_Landscape.ipynb\" target=\"_parent\"><img src=\"https://colab.research.google.com/assets/colab-badge.svg\" alt=\"Open In Colab\"/></a>"
      ]
    },
    {
      "cell_type": "markdown",
      "metadata": {
        "id": "rEx9IOnF1hKO"
      },
      "source": [
        "#Training StyleGAN2 on Colab\n",
        "\n",
        "Use Colab Pro+ ($49.99/month), Colab Pro ($10.00/month) to get a couple extra hours of training time in per session and do not run into low-RAM issues."
      ]
    },
    {
      "cell_type": "markdown",
      "metadata": {
        "id": "wQfzMA4Mw_Am"
      },
      "source": [
        "## Setting up as shown below"
      ]
    },
    {
      "cell_type": "markdown",
      "metadata": {
        "id": "eqIVvA3zxCRC"
      },
      "source": [
        "<center>  \n",
        "\n",
        "![image](https://media.giphy.com/media/IFRhbMJSy3IaNZulCk/source.gif?cid=790b76116b562dd18158c804953ae06343645e756f8ed52d&rid=source.gif&ct=g)\n"
      ]
    },
    {
      "cell_type": "markdown",
      "metadata": {
        "id": "mugumvkOtnBb"
      },
      "source": [
        "##Note\n",
        "Convert all the ***path_to_files*** to specific paths for your own use case from the files icon on the hard left of the screen.\n",
        "- Select the folder mentioned in the script\n",
        "- Right Click to open options\n",
        "- Select Path"
      ]
    },
    {
      "cell_type": "markdown",
      "metadata": {
        "id": "WcDHP4h-11Ii"
      },
      "source": [
        "##Mounting Google Drive\n",
        "So I’m actually gonna install my entire repo directly into your Google Drive. This will make the setup a little easier.\n",
        "\n",
        "First, connect your Drive to Colab. Gif explains how to:\n",
        "\n",
        "<p align=\"center\">\n",
        "  <img src=\"https://media.giphy.com/media/WKMU25D95cjqWw9GCS/source.gif?cid=790b7611b611ba7d6a09693279bea7a3e08cb1e976b1b827&rid=source.gif&ct=g\" alt=\"animated-gif2\" />\n",
        "</p>  "
      ]
    },
    {
      "cell_type": "code",
      "metadata": {
        "id": "lJazuNYurryY",
        "colab": {
          "base_uri": "https://localhost:8080/"
        },
        "outputId": "fc657c31-3527-4ba2-a15c-c8e35772a9b4"
      },
      "source": [
        "from google.colab import drive\n",
        "drive.mount('/content/drive')"
      ],
      "execution_count": null,
      "outputs": [
        {
          "output_type": "stream",
          "name": "stdout",
          "text": [
            "Mounted at /content/drive\n"
          ]
        }
      ]
    },
    {
      "cell_type": "markdown",
      "metadata": {
        "id": "aadrbMyR2F00"
      },
      "source": [
        "##Install the repo\n",
        "**Only execute this for the first time setting this up!**\n",
        "\n",
        "If this is your first time ever running this notebook, you’ll want to install my fork of StyleGAN2 to your Drive account. Make sure you have ample space on your Drive (I’d say at least 50GB). This will install the repo and add some dependecies (like transferring from FFHQ the first time).\n",
        "\n",
        "***After your first use of this notebook you’ll want to skip this cell and run the cell after this.***"
      ]
    },
    {
      "cell_type": "code",
      "metadata": {
        "id": "QoTNQ3Gyr0ih",
        "colab": {
          "base_uri": "https://localhost:8080/"
        },
        "outputId": "8ff1c612-b910-4782-e4cb-318fca613078"
      },
      "source": [
        "# SKIP this if you already have a stylegan2 folder in your google drive\n",
        "# Configuring StyleGAN so that it directly downloads all the necessary files \n",
        "%cd /content/drive/My\\ Drive/\n",
        "!mkdir stylegan2-colab\n",
        "%cd stylegan2-colab/\n",
        "!git clone https://github.com/saadz-khan/stylegan2\n",
        "%cd stylegan2\n",
        "!mkdir pkl\n",
        "%cd pkl\n",
        "# Inception v3 Download for pkl files\n",
        "!gdown --id 1JLqXE5bGZnlu2BkbLPD5_ZxoO3Nz-AvF #inception: https://drive.google.com/open?id=1JLqXE5bGZnlu2BkbLPD5_ZxoO3Nz-AvF\n",
        "%cd ../\n",
        "!mkdir results\n",
        "!mkdir results/00001-pretrained\n",
        "%cd results/00001-pretrained\n",
        "!gdown --id 10qM4Ia1r_85zii488p-uQ1b4ibxkdWwC\n",
        "!mv network-snapshot-010340.pkl network-snapshot-10000.pkl\n",
        "%cd ../../\n",
        "%mkdir datasets"
      ],
      "execution_count": null,
      "outputs": [
        {
          "output_type": "stream",
          "name": "stdout",
          "text": [
            "/content/drive/My Drive\n",
            "/content/drive/My Drive/stylegan2-colab\n",
            "Cloning into 'stylegan2'...\n",
            "remote: Enumerating objects: 556, done.\u001b[K\n",
            "remote: Counting objects: 100% (4/4), done.\u001b[K\n",
            "remote: Compressing objects: 100% (4/4), done.\u001b[K\n",
            "remote: Total 556 (delta 0), reused 0 (delta 0), pack-reused 552\u001b[K\n",
            "Receiving objects: 100% (556/556), 22.48 MiB | 25.92 MiB/s, done.\n",
            "Resolving deltas: 100% (285/285), done.\n",
            "/content/drive/My Drive/stylegan2-colab/stylegan2\n",
            "/content/drive/My Drive/stylegan2-colab/stylegan2/pkl\n",
            "Downloading...\n",
            "From: https://drive.google.com/uc?id=1JLqXE5bGZnlu2BkbLPD5_ZxoO3Nz-AvF\n",
            "To: /content/drive/My Drive/stylegan2-colab/stylegan2/pkl/inception_v3_features.pkl\n",
            "100% 87.3M/87.3M [00:00<00:00, 122MB/s] \n",
            "/content/drive/My Drive/stylegan2-colab/stylegan2\n",
            "/content/drive/My Drive/stylegan2-colab/stylegan2/results/00001-pretrained\n",
            "Downloading...\n",
            "From: https://drive.google.com/uc?id=1vxO7zpBHuukvFX5AL6Er8iMgbqvTavud\n",
            "To: /content/drive/My Drive/stylegan2-colab/stylegan2/results/00001-pretrained/stylegan2-ffhq-512x512-config-f.pkl\n",
            "100% 364M/364M [00:02<00:00, 129MB/s] \n",
            "/content/drive/My Drive/stylegan2-colab/stylegan2\n"
          ]
        }
      ]
    },
    {
      "cell_type": "markdown",
      "metadata": {
        "id": "NN2K68CE27py"
      },
      "source": [
        "##Picking up from a after first time previous session\n",
        "## Run the above step only once. Saved the files after your previous session.\n",
        "If you already have the StyleGAN2 repo installed in Drive skip the above cell and run the following. This will make sure you have the latest version in case I make updates."
      ]
    },
    {
      "cell_type": "code",
      "metadata": {
        "id": "J8WgjhRFsFJ0",
        "colab": {
          "base_uri": "https://localhost:8080/"
        },
        "outputId": "b2a3971e-c756-4bec-fda2-b33e511de828"
      },
      "source": [
        "#USE this if you already have a stylegan2 folder in google drive\n",
        "%cd /content/drive/My\\ Drive/stylegan2-colab/stylegan2"
      ],
      "execution_count": null,
      "outputs": [
        {
          "output_type": "stream",
          "name": "stdout",
          "text": [
            "/content/drive/My Drive/stylegan2-colab/stylegan2\n"
          ]
        }
      ]
    },
    {
      "cell_type": "markdown",
      "metadata": {
        "id": "VajTYXPK8q9q"
      },
      "source": [
        "## GPU Testing and sample run\n",
        "A sample script to see if your GPU is working appropriately"
      ]
    },
    {
      "cell_type": "code",
      "metadata": {
        "colab": {
          "base_uri": "https://localhost:8080/"
        },
        "id": "HMGGSGk8882Z",
        "outputId": "4b9d9b0d-ac38-4032-afe3-5c34646a03b0"
      },
      "source": [
        "!nvidia-smi"
      ],
      "execution_count": null,
      "outputs": [
        {
          "output_type": "stream",
          "name": "stdout",
          "text": [
            "Wed Nov 10 14:14:24 2021       \n",
            "+-----------------------------------------------------------------------------+\n",
            "| NVIDIA-SMI 495.44       Driver Version: 460.32.03    CUDA Version: 11.2     |\n",
            "|-------------------------------+----------------------+----------------------+\n",
            "| GPU  Name        Persistence-M| Bus-Id        Disp.A | Volatile Uncorr. ECC |\n",
            "| Fan  Temp  Perf  Pwr:Usage/Cap|         Memory-Usage | GPU-Util  Compute M. |\n",
            "|                               |                      |               MIG M. |\n",
            "|===============================+======================+======================|\n",
            "|   0  Tesla P100-PCIE...  Off  | 00000000:00:04.0 Off |                    0 |\n",
            "| N/A   33C    P0    25W / 250W |      0MiB / 16280MiB |      0%      Default |\n",
            "|                               |                      |                  N/A |\n",
            "+-------------------------------+----------------------+----------------------+\n",
            "                                                                               \n",
            "+-----------------------------------------------------------------------------+\n",
            "| Processes:                                                                  |\n",
            "|  GPU   GI   CI        PID   Type   Process name                  GPU Memory |\n",
            "|        ID   ID                                                   Usage      |\n",
            "|=============================================================================|\n",
            "|  No running processes found                                                 |\n",
            "+-----------------------------------------------------------------------------+\n"
          ]
        }
      ]
    },
    {
      "cell_type": "code",
      "metadata": {
        "colab": {
          "base_uri": "https://localhost:8080/"
        },
        "id": "a6COKQxH8xLJ",
        "outputId": "5a4beeaf-0db6-431c-e02f-b2fa6da40f09"
      },
      "source": [
        "!nvcc test_nvcc.cu -o test_nvcc -run"
      ],
      "execution_count": null,
      "outputs": [
        {
          "output_type": "stream",
          "name": "stdout",
          "text": [
            "CPU says hello.\n",
            "GPU says hello.\n"
          ]
        }
      ]
    },
    {
      "cell_type": "markdown",
      "metadata": {
        "id": "HSbEY2pT3TOb"
      },
      "source": [
        "##Make sure Tensorflow 1.15 is set\n",
        "StyleGAN is made on Tensorflow 1.15.  \n",
        "Colab now defaults to Tensorflow 2. Make sure you run this cell to reset it to TF1. Any other version breaks StyleGAN"
      ]
    },
    {
      "cell_type": "code",
      "metadata": {
        "id": "UMdpKY1XODz2",
        "colab": {
          "base_uri": "https://localhost:8080/"
        },
        "outputId": "66576982-7796-4214-a5b0-5499243d898e"
      },
      "source": [
        "%tensorflow_version 1.x\n",
        "import tensorflow\n",
        "print(tensorflow.__version__)"
      ],
      "execution_count": null,
      "outputs": [
        {
          "output_type": "stream",
          "name": "stdout",
          "text": [
            "TensorFlow 1.x selected.\n",
            "1.15.2\n"
          ]
        }
      ]
    },
    {
      "cell_type": "markdown",
      "metadata": {
        "id": "i1pIBZGzZxSA"
      },
      "source": [
        "##Converting your dataset Only Once For Initial Setup\n",
        "\n",
        "***This process takes time as the images are being converted depends on the size of the dataset***\n",
        "\n",
        "StyleGAN requires you to convert your standard jpg or png images into a new format (.tfrecords). \n",
        "\n",
        "- I’ve seen recommendations to run this command every time you restart your Colab machine. If a small dataset (< 2000 images) that’s probably unnecessary.\n",
        "\n",
        "- Upload dataset to Google Drive and copy its path from the Drive folder in Colab and paste its path in the below cell.\n",
        "\n",
        "After the `create_from_images` argument you need to pass in two paths. The first path is where the .tfrecords files should be output (just edit the last part to have a unique name). The second path is to the directory of your images.\n",
        "\n",
        "\n"
      ]
    },
    {
      "cell_type": "markdown",
      "metadata": {
        "id": "1M_33yEwo_gk"
      },
      "source": [
        "![image](https://media.giphy.com/media/tfBMvB1IFIiWKpkj9N/source.gif?cid=790b7611f101d6049270ff1a389d25ffd847fa1a5a417871&rid=source.gif&ct=g)"
      ]
    },
    {
      "cell_type": "code",
      "metadata": {
        "id": "Ixjcx2-cbTDm",
        "colab": {
          "base_uri": "https://localhost:8080/"
        },
        "outputId": "a23e1afb-a779-43d8-a2f7-f0a2d8a7bab1"
      },
      "source": [
        "#2nd argument = Create an empty directory in datasets folder to put your .tfrecord files e.g (./datasets/name) = (./datasets/white_background) \n",
        "#3rd points = google drive raw .jpg or .png images paths (/path_to_drive_folder_raw_images/) = (/content/drive/My\\ Drive/Datasets/face_images/white_background)\n",
        "\n",
        "#update this to the path to your image folder\n",
        "dataset_path = \"/content/drive/MyDrive/Tavi\\\\ Dataset/Pictures\"#@param[]{allow-input: true}\n",
        "#give your dataset a name\n",
        "dataset_name = \"art\" #@param[]{allow-input: true}\n",
        "\n",
        "!python dataset_tool.py create_from_images ./datasets/{dataset_name} {dataset_path}"
      ],
      "execution_count": null,
      "outputs": [
        {
          "output_type": "stream",
          "name": "stdout",
          "text": [
            "Loading images from \"/content/drive/MyDrive/Tavi Dataset/Pictures\"\n",
            "  0% 0/3557 [00:00<?, ?it/s]dataset_tool.py:87: DeprecationWarning: tostring() is deprecated. Use tobytes() instead.\n",
            "  'data': tf.train.Feature(bytes_list=tf.train.BytesList(value=[quant.tostring()]))}))\n",
            "100% 3557/3557 [28:58<00:00,  2.05it/s]\n"
          ]
        }
      ]
    },
    {
      "cell_type": "markdown",
      "metadata": {
        "id": "iAfUNG60aRD1"
      },
      "source": [
        "##Training\n",
        "\n",
        "This library is set up to automatically find your latest .pkl file so it should keep re-training and making progress.\n",
        "\n",
        "##Training Options\n",
        "### `--config`\n",
        "This should be either `config-e` or `config-f`. Mostly the `config-f` are better.  \n",
        "Have done the result analysis of different ffhq models.\n",
        "\n",
        "### `--dataset`\n",
        "\n",
        "This should be the name you used in the first path when converting your dataset.\n",
        "\n",
        "### `--mirror-augment`\n",
        "\n",
        "Using this option loads some images at random mirrored horizontally (left-to-right). This might help if you have a very small dataset.\n",
        "\n",
        "### `--metrics`\n",
        "\n",
        "Set `--metrics=None` and enjoy. Metrics is something difficult to deal with as it contains overwhelming amount of information.\n",
        "\n",
        "If you must use metrics, you have a few options. `fid50k`, the default, uses Frechet Inception Distance score. It’s what was used in StyleGAN1 and what most people know. It’s fine for images of animals and things, but it’s not great. `ppl_wend` is what StyleGAN2 prefers and claims to be more accurate. There are a bunch of other options but I’d recommend you stick with those. Note that both of these take 30–45minutes to run every time it runs so that cuts into your training time in Colab.\n",
        "\n",
        "| Metric      | FFHQ config F  | 1 GPU  | 2 GPUs  | 4 GPUs | Description |\n",
        "| :---------- | :------------: | :----: | :-----: | :----: | :---------- |\n",
        "| `fid50k`    | 2.84 &pm; 0.03 | 22 min | 14 min  | 10 min | [Fr&eacute;chet Inception Distance](https://arxiv.org/abs/1706.08500)\n",
        "| `is50k`     | 5.13 &pm; 0.02 | 23 min | 14 min  | 8 min  | [Inception Score](https://arxiv.org/abs/1606.03498)\n",
        "| `ppl_zfull` | 348.0 &pm; 3.8 | 41 min | 22 min  | 14 min | [Perceptual Path Length](https://arxiv.org/abs/1812.04948) in Z, full paths\n",
        "| `ppl_wfull` | 126.9 &pm; 0.2 | 42 min | 22 min  | 13 min | [Perceptual Path Length](https://arxiv.org/abs/1812.04948) in W, full paths\n",
        "| `ppl_zend`  | 348.6 &pm; 3.0 | 41 min | 22 min  | 14 min | [Perceptual Path Length](https://arxiv.org/abs/1812.04948) in Z, path endpoints\n",
        "| `ppl_wend`  | 129.4 &pm; 0.8 | 40 min | 23 min  | 13 min | [Perceptual Path Length](https://arxiv.org/abs/1812.04948) in W, path endpoints\n",
        "| `ppl2_wend` | 145.0 &pm; 0.5 | 41 min | 23 min  | 14 min | [Perceptual Path Length](https://arxiv.org/abs/1812.04948) without center crop\n",
        "| `ls`        | 154.2 / 4.27   | 10 hrs | 6 hrs   | 4 hrs  | [Linear Separability](https://arxiv.org/abs/1812.04948)\n",
        "| `pr50k3`    | 0.689 / 0.492  | 26 min | 17 min  | 12 min | [Precision and Recall](https://arxiv.org/abs/1904.06991)\n"
      ]
    },
    {
      "cell_type": "markdown",
      "metadata": {
        "id": "kqAQQFtMHGYH"
      },
      "source": [
        "***You need to watch out. StyleGAN is bad at reading the dataset so it might change the shape automatically and will give an error. So keep an eye for this. and Do let me know if this does not resolve in the 2nd time you run the code again.***  \n",
        "- If dataset is RGB, 512x512 pixels  \n",
        "- `Dataset shape = [3, 512, 512]`       \n",
        "    \n",
        "<center>  \n",
        "\n",
        "![image.png](data:image/png;base64,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)"
      ]
    },
    {
      "cell_type": "code",
      "metadata": {
        "id": "8QrOVqEHaipA",
        "colab": {
          "base_uri": "https://localhost:8080/"
        },
        "outputId": "2e4e3c13-2fa3-456c-c0e9-dda89e9fbc04"
      },
      "source": [
        "dataset_name = \"art\" #@param[]{allow-input: true}\n",
        "\n",
        "!python run_training.py --num-gpus=1 --data-dir=./datasets --config=config-f --dataset={dataset_name} --mirror-augment=true --metrics=None"
      ],
      "execution_count": null,
      "outputs": [
        {
          "output_type": "stream",
          "name": "stdout",
          "text": [
            "Local submit - run_dir: results/00002-stylegan2-art-1gpu-config-f\n",
            "dnnlib: Running training.training_loop.training_loop() on localhost...\n",
            "Streaming data using training.dataset.TFRecordDataset...\n",
            "tcmalloc: large alloc 4294967296 bytes == 0x559db9032000 @  0x7f12f916c001 0x7f12f5c5054f 0x7f12f5ca0b58 0x7f12f5ca4b17 0x7f12f5d43203 0x559db2331544 0x559db2331240 0x559db23a5627 0x559db239fced 0x559db233348c 0x559db2374159 0x559db23710a4 0x559db2333698 0x559db23a1fe4 0x559db239f9ee 0x559db2271e2b 0x559db23a1fe4 0x559db239f9ee 0x559db2271e2b 0x559db23a1fe4 0x559db2332afa 0x559db23a0915 0x559db2332afa 0x559db23a0c0d 0x559db239f9ee 0x559db2271e2b 0x559db23a1fe4 0x559db239f9ee 0x559db2271e2b 0x559db23a1fe4 0x559db2332afa\n",
            "tcmalloc: large alloc 4294967296 bytes == 0x559eb9032000 @  0x7f12f916a1e7 0x7f12f5c5046e 0x7f12f5ca0c7b 0x7f12f5ca135f 0x7f12f5d43103 0x559db2331544 0x559db2331240 0x559db23a5627 0x559db239f9ee 0x559db2332bda 0x559db23a1737 0x559db239f9ee 0x559db2332bda 0x559db23a1737 0x559db239f9ee 0x559db2332bda 0x559db23a1737 0x559db2332afa 0x559db23a0915 0x559db239f9ee 0x559db2332bda 0x559db23a4d00 0x559db239f9ee 0x559db2332bda 0x559db23a1737 0x559db239fced 0x559db233348c 0x559db2374159 0x559db23710a4 0x559db2333698 0x559db23a1fe4\n",
            "tcmalloc: large alloc 4294967296 bytes == 0x559fba1d2000 @  0x7f12f916a1e7 0x7f12f5c5046e 0x7f12f5ca0c7b 0x7f12f5ca135f 0x7f129f131235 0x7f129eab4792 0x7f129eab4d42 0x7f129ea6daee 0x559db2331437 0x559db2331240 0x559db23a50f3 0x559db2332afa 0x559db23a0c0d 0x559db239fced 0x559db2271eb0 0x559db23a1fe4 0x559db239f9ee 0x559db2332bda 0x559db23a0c0d 0x559db239fced 0x559db2332bda 0x559db23a0c0d 0x559db2332afa 0x559db23a0c0d 0x559db239f9ee 0x559db2333271 0x559db2333698 0x559db23a1fe4 0x559db239f9ee 0x559db2332bda 0x559db23a0915\n",
            "Dataset shape = [3, 1024, 1024]\n",
            "Dynamic range = [0, 255]\n",
            "Label size    = 0\n",
            "2021-11-09 11:57:44.588911: W tensorflow/core/framework/cpu_allocator_impl.cc:81] Allocation of 88080384 exceeds 10% of system memory.\n",
            "Loading networks from \"results/00001-pretrained/network-snapshot-10000.pkl\"...\n",
            "Setting up TensorFlow plugin \"fused_bias_act.cu\": Preprocessing... Compiling... Loading... Done.\n",
            "Setting up TensorFlow plugin \"upfirdn_2d.cu\": Preprocessing... Compiling... Loading... Done.\n",
            "\n",
            "G                             Params    OutputShape         WeightShape     \n",
            "---                           ---       ---                 ---             \n",
            "latents_in                    -         (?, 512)            -               \n",
            "labels_in                     -         (?, 0)              -               \n",
            "lod                           -         ()                  -               \n",
            "dlatent_avg                   -         (512,)              -               \n",
            "G_mapping/latents_in          -         (?, 512)            -               \n",
            "G_mapping/labels_in           -         (?, 0)              -               \n",
            "G_mapping/Normalize           -         (?, 512)            -               \n",
            "G_mapping/Dense0              262656    (?, 512)            (512, 512)      \n",
            "G_mapping/Dense1              262656    (?, 512)            (512, 512)      \n",
            "G_mapping/Dense2              262656    (?, 512)            (512, 512)      \n",
            "G_mapping/Dense3              262656    (?, 512)            (512, 512)      \n",
            "G_mapping/Dense4              262656    (?, 512)            (512, 512)      \n",
            "G_mapping/Dense5              262656    (?, 512)            (512, 512)      \n",
            "G_mapping/Dense6              262656    (?, 512)            (512, 512)      \n",
            "G_mapping/Dense7              262656    (?, 512)            (512, 512)      \n",
            "G_mapping/Broadcast           -         (?, 16, 512)        -               \n",
            "G_mapping/dlatents_out        -         (?, 16, 512)        -               \n",
            "Truncation/Lerp               -         (?, 16, 512)        -               \n",
            "G_synthesis/dlatents_in       -         (?, 16, 512)        -               \n",
            "G_synthesis/4x4/Const         8192      (?, 512, 4, 4)      (1, 512, 4, 4)  \n",
            "G_synthesis/4x4/Conv          2622465   (?, 512, 4, 4)      (3, 3, 512, 512)\n",
            "G_synthesis/4x4/ToRGB         264195    (?, 3, 4, 4)        (1, 1, 512, 3)  \n",
            "G_synthesis/8x8/Conv0_up      2622465   (?, 512, 8, 8)      (3, 3, 512, 512)\n",
            "G_synthesis/8x8/Conv1         2622465   (?, 512, 8, 8)      (3, 3, 512, 512)\n",
            "G_synthesis/8x8/Upsample      -         (?, 3, 8, 8)        -               \n",
            "G_synthesis/8x8/ToRGB         264195    (?, 3, 8, 8)        (1, 1, 512, 3)  \n",
            "G_synthesis/16x16/Conv0_up    2622465   (?, 512, 16, 16)    (3, 3, 512, 512)\n",
            "G_synthesis/16x16/Conv1       2622465   (?, 512, 16, 16)    (3, 3, 512, 512)\n",
            "G_synthesis/16x16/Upsample    -         (?, 3, 16, 16)      -               \n",
            "G_synthesis/16x16/ToRGB       264195    (?, 3, 16, 16)      (1, 1, 512, 3)  \n",
            "G_synthesis/32x32/Conv0_up    2622465   (?, 512, 32, 32)    (3, 3, 512, 512)\n",
            "G_synthesis/32x32/Conv1       2622465   (?, 512, 32, 32)    (3, 3, 512, 512)\n",
            "G_synthesis/32x32/Upsample    -         (?, 3, 32, 32)      -               \n",
            "G_synthesis/32x32/ToRGB       264195    (?, 3, 32, 32)      (1, 1, 512, 3)  \n",
            "G_synthesis/64x64/Conv0_up    2622465   (?, 512, 64, 64)    (3, 3, 512, 512)\n",
            "G_synthesis/64x64/Conv1       2622465   (?, 512, 64, 64)    (3, 3, 512, 512)\n",
            "G_synthesis/64x64/Upsample    -         (?, 3, 64, 64)      -               \n",
            "G_synthesis/64x64/ToRGB       264195    (?, 3, 64, 64)      (1, 1, 512, 3)  \n",
            "G_synthesis/128x128/Conv0_up  1442561   (?, 256, 128, 128)  (3, 3, 512, 256)\n",
            "G_synthesis/128x128/Conv1     721409    (?, 256, 128, 128)  (3, 3, 256, 256)\n",
            "G_synthesis/128x128/Upsample  -         (?, 3, 128, 128)    -               \n",
            "G_synthesis/128x128/ToRGB     132099    (?, 3, 128, 128)    (1, 1, 256, 3)  \n",
            "G_synthesis/256x256/Conv0_up  426369    (?, 128, 256, 256)  (3, 3, 256, 128)\n",
            "G_synthesis/256x256/Conv1     213249    (?, 128, 256, 256)  (3, 3, 128, 128)\n",
            "G_synthesis/256x256/Upsample  -         (?, 3, 256, 256)    -               \n",
            "G_synthesis/256x256/ToRGB     66051     (?, 3, 256, 256)    (1, 1, 128, 3)  \n",
            "G_synthesis/512x512/Conv0_up  139457    (?, 64, 512, 512)   (3, 3, 128, 64) \n",
            "G_synthesis/512x512/Conv1     69761     (?, 64, 512, 512)   (3, 3, 64, 64)  \n",
            "G_synthesis/512x512/Upsample  -         (?, 3, 512, 512)    -               \n",
            "G_synthesis/512x512/ToRGB     33027     (?, 3, 512, 512)    (1, 1, 64, 3)   \n",
            "G_synthesis/images_out        -         (?, 3, 512, 512)    -               \n",
            "G_synthesis/noise0            -         (1, 1, 4, 4)        -               \n",
            "G_synthesis/noise1            -         (1, 1, 8, 8)        -               \n",
            "G_synthesis/noise2            -         (1, 1, 8, 8)        -               \n",
            "G_synthesis/noise3            -         (1, 1, 16, 16)      -               \n",
            "G_synthesis/noise4            -         (1, 1, 16, 16)      -               \n",
            "G_synthesis/noise5            -         (1, 1, 32, 32)      -               \n",
            "G_synthesis/noise6            -         (1, 1, 32, 32)      -               \n",
            "G_synthesis/noise7            -         (1, 1, 64, 64)      -               \n",
            "G_synthesis/noise8            -         (1, 1, 64, 64)      -               \n",
            "G_synthesis/noise9            -         (1, 1, 128, 128)    -               \n",
            "G_synthesis/noise10           -         (1, 1, 128, 128)    -               \n",
            "G_synthesis/noise11           -         (1, 1, 256, 256)    -               \n",
            "G_synthesis/noise12           -         (1, 1, 256, 256)    -               \n",
            "G_synthesis/noise13           -         (1, 1, 512, 512)    -               \n",
            "G_synthesis/noise14           -         (1, 1, 512, 512)    -               \n",
            "images_out                    -         (?, 3, 512, 512)    -               \n",
            "---                           ---       ---                 ---             \n",
            "Total                         30276583                                      \n",
            "\n",
            "\n",
            "D                    Params    OutputShape         WeightShape     \n",
            "---                  ---       ---                 ---             \n",
            "images_in            -         (?, 3, 512, 512)    -               \n",
            "labels_in            -         (?, 0)              -               \n",
            "512x512/FromRGB      256       (?, 64, 512, 512)   (1, 1, 3, 64)   \n",
            "512x512/Conv0        36928     (?, 64, 512, 512)   (3, 3, 64, 64)  \n",
            "512x512/Conv1_down   73856     (?, 128, 256, 256)  (3, 3, 64, 128) \n",
            "512x512/Skip         8192      (?, 128, 256, 256)  (1, 1, 64, 128) \n",
            "256x256/Conv0        147584    (?, 128, 256, 256)  (3, 3, 128, 128)\n",
            "256x256/Conv1_down   295168    (?, 256, 128, 128)  (3, 3, 128, 256)\n",
            "256x256/Skip         32768     (?, 256, 128, 128)  (1, 1, 128, 256)\n",
            "128x128/Conv0        590080    (?, 256, 128, 128)  (3, 3, 256, 256)\n",
            "128x128/Conv1_down   1180160   (?, 512, 64, 64)    (3, 3, 256, 512)\n",
            "128x128/Skip         131072    (?, 512, 64, 64)    (1, 1, 256, 512)\n",
            "64x64/Conv0          2359808   (?, 512, 64, 64)    (3, 3, 512, 512)\n",
            "64x64/Conv1_down     2359808   (?, 512, 32, 32)    (3, 3, 512, 512)\n",
            "64x64/Skip           262144    (?, 512, 32, 32)    (1, 1, 512, 512)\n",
            "32x32/Conv0          2359808   (?, 512, 32, 32)    (3, 3, 512, 512)\n",
            "32x32/Conv1_down     2359808   (?, 512, 16, 16)    (3, 3, 512, 512)\n",
            "32x32/Skip           262144    (?, 512, 16, 16)    (1, 1, 512, 512)\n",
            "16x16/Conv0          2359808   (?, 512, 16, 16)    (3, 3, 512, 512)\n",
            "16x16/Conv1_down     2359808   (?, 512, 8, 8)      (3, 3, 512, 512)\n",
            "16x16/Skip           262144    (?, 512, 8, 8)      (1, 1, 512, 512)\n",
            "8x8/Conv0            2359808   (?, 512, 8, 8)      (3, 3, 512, 512)\n",
            "8x8/Conv1_down       2359808   (?, 512, 4, 4)      (3, 3, 512, 512)\n",
            "8x8/Skip             262144    (?, 512, 4, 4)      (1, 1, 512, 512)\n",
            "4x4/MinibatchStddev  -         (?, 513, 4, 4)      -               \n",
            "4x4/Conv             2364416   (?, 512, 4, 4)      (3, 3, 513, 512)\n",
            "4x4/Dense0           4194816   (?, 512)            (8192, 512)     \n",
            "Output               513       (?, 1)              (512, 1)        \n",
            "scores_out           -         (?, 1)              -               \n",
            "---                  ---       ---                 ---             \n",
            "Total                28982849                                      \n",
            "\n",
            "Building TensorFlow graph...\n",
            "Traceback (most recent call last):\n",
            "  File \"/tensorflow-1.15.2/python3.7/tensorflow_core/python/framework/ops.py\", line 642, in set_shape\n",
            "    unknown_shape)\n",
            "tensorflow.python.framework.errors_impl.InvalidArgumentError: Dimension 2 in both shapes must be equal, but are 1024 and 512. Shapes are [?,3,1024,1024] and [?,3,512,512].\n",
            "\n",
            "During handling of the above exception, another exception occurred:\n",
            "\n",
            "Traceback (most recent call last):\n",
            "  File \"run_training.py\", line 202, in <module>\n",
            "    main()\n",
            "  File \"run_training.py\", line 197, in main\n",
            "    run(**vars(args))\n",
            "  File \"run_training.py\", line 128, in run\n",
            "    dnnlib.submit_run(**kwargs)\n",
            "  File \"/content/drive/My Drive/stylegan2-colab/stylegan2/dnnlib/submission/submit.py\", line 343, in submit_run\n",
            "    return farm.submit(submit_config, host_run_dir)\n",
            "  File \"/content/drive/My Drive/stylegan2-colab/stylegan2/dnnlib/submission/internal/local.py\", line 22, in submit\n",
            "    return run_wrapper(submit_config)\n",
            "  File \"/content/drive/My Drive/stylegan2-colab/stylegan2/dnnlib/submission/submit.py\", line 280, in run_wrapper\n",
            "    run_func_obj(**submit_config.run_func_kwargs)\n",
            "  File \"/content/drive/My Drive/stylegan2-colab/stylegan2/training/training_loop.py\", line 225, in training_loop\n",
            "    D_loss, D_reg = dnnlib.util.call_func_by_name(G=G_gpu, D=D_gpu, opt=D_opt, training_set=training_set, minibatch_size=minibatch_gpu_in, reals=reals_read, labels=labels_read, **D_loss_args)\n",
            "  File \"/content/drive/My Drive/stylegan2-colab/stylegan2/dnnlib/util.py\", line 256, in call_func_by_name\n",
            "    return func_obj(*args, **kwargs)\n",
            "  File \"/content/drive/My Drive/stylegan2-colab/stylegan2/training/loss.py\", line 56, in D_logistic_r1\n",
            "    real_scores_out = D.get_output_for(reals, labels, is_training=True)\n",
            "  File \"/content/drive/My Drive/stylegan2-colab/stylegan2/dnnlib/tflib/network.py\", line 221, in get_output_for\n",
            "    out_expr = self._build_func(*final_inputs, **build_kwargs)\n",
            "  File \"<string>\", line 703, in D_stylegan2\n",
            "  File \"/tensorflow-1.15.2/python3.7/tensorflow_core/python/framework/ops.py\", line 645, in set_shape\n",
            "    raise ValueError(str(e))\n",
            "ValueError: Dimension 2 in both shapes must be equal, but are 1024 and 512. Shapes are [?,3,1024,1024] and [?,3,512,512].\n"
          ]
        }
      ]
    },
    {
      "cell_type": "markdown",
      "metadata": {
        "id": "KfqntmrFp2Qk"
      },
      "source": [
        "- Once 25000 kimg have been trained it means that the training is complete.\n",
        "- Check results after 2-3 days regardless from later files to know what results are the best and pick that network snapshot for testing/generation. \n",
        "- Your google drive must have ample space mind you for higher level training I'd say 40-50GB atleast.\n",
        "- Sometimes image generation is far better than the fakes generated.\n",
        "- Do continous testing with the network snapshots as the training will resume from the point where you left off."
      ]
    },
    {
      "cell_type": "markdown",
      "metadata": {
        "id": "yQ7U1ftuj_Dc"
      },
      "source": [
        "Once running, your training files will show up in the results folder.\n",
        "To see the results after the training. Head to the results folder and select the last folder in it to see latest fakes files. You can judge the latest training progress from it. Example is:\n",
        "- fakes010000.jpg\n",
        "- fakes010001.jpg (Latest)"
      ]
    },
    {
      "cell_type": "markdown",
      "metadata": {
        "id": "f3ZdyO_J-XRo"
      },
      "source": [
        "![image](https://media.giphy.com/media/SR4q9G6aCiGd46w8JQ/source.gif?cid=790b7611089e35549aefe254751d8054219fab8027ea99af&rid=source.gif&ct=g)"
      ]
    },
    {
      "cell_type": "markdown",
      "metadata": {
        "id": "xt3-yCKIsxZe"
      },
      "source": [
        "## Note 2\n",
        "First 10 hours of the StyleGAN2 training from scratch model might not be able to see some results or they might just be random pixels values of different pixels. Do not worry this is how it goes actually. You will be able to see results after putting in loads of hours of training on your model."
      ]
    },
    {
      "cell_type": "markdown",
      "metadata": {
        "id": "F9vCDt9LRtXl"
      },
      "source": [
        "#Testing the model (generating images)\n",
        "The following command will generate 55 sample images from the model.\n",
        "\n",
        "##Options\n",
        "`--network`\n",
        "\n",
        "Make sure the `--network` argument points to your .pkl file. (My preferred method is to right click on the file in the Files pane to your left and choose `Copy Path`, then paste that into the argument after the `=` sign).\n",
        "\n",
        "`--seeds`\n",
        "\n",
        "This allows you to choose random seeds from the model. Remember that our input to StyleGAN is a 512-dimensional array. These seeds will generate those 512 values. Each seed will generate a different, random array. The same seed value will also always generate the same random array, so we can later use it for other purposes like interpolation.\n",
        "\n",
        "`--truncation-psi`\n",
        "\n",
        "Truncation is a special argument of StyleGAN. Essentially values that are closer to 0 will be more real than numbers further away from 0. I generally recommend a value between `0.5` and `1.0`. `0.5` will give you pretty \"realistic\" results, while `1.0` is likely to give you \"weirder\" results."
      ]
    },
    {
      "cell_type": "code",
      "metadata": {
        "colab": {
          "base_uri": "https://localhost:8080/"
        },
        "id": "riwOox6f_PAS",
        "outputId": "ec5efd58-17fc-480b-950a-9cd50c4c4cba"
      },
      "source": [
        "!pip install opensimplex"
      ],
      "execution_count": null,
      "outputs": [
        {
          "output_type": "stream",
          "name": "stdout",
          "text": [
            "Collecting opensimplex\n",
            "  Downloading opensimplex-0.3-py3-none-any.whl (15 kB)\n",
            "Installing collected packages: opensimplex\n",
            "Successfully installed opensimplex-0.3\n"
          ]
        }
      ]
    },
    {
      "cell_type": "code",
      "metadata": {
        "id": "l3MhXEAMOMXH",
        "colab": {
          "base_uri": "https://localhost:8080/"
        },
        "outputId": "6ebef7c3-aa1a-4390-d7cb-1a502936ed29"
      },
      "source": [
        "truncation_psi = 0.5 #@param {type: \"number\"}\n",
        "seeds = \"18239-18739\" #@param[]{allow-input: true}\n",
        "path_to_latest_pkl = \"/content/drive/MyDrive/stylegan2-colab/stylegan2/results/00001-pretrained/network-snapshot-10000.pkl\" #@param[]{allow-input: true}\n",
        "!python run_generator.py generate-images --network={path_to_latest_pkl} --seeds={seeds} --truncation-psi={truncation_psi}"
      ],
      "execution_count": null,
      "outputs": [
        {
          "output_type": "stream",
          "name": "stdout",
          "text": [
            "Local submit - run_dir: results/00003-generate-images\n",
            "dnnlib: Running run_generator.generate_images() on localhost...\n",
            "Loading networks from \"/content/drive/MyDrive/stylegan2-colab/stylegan2/results/00001-pretrained/network-snapshot-10000.pkl\"...\n",
            "Setting up TensorFlow plugin \"fused_bias_act.cu\": Preprocessing... Loading... Done.\n",
            "Setting up TensorFlow plugin \"upfirdn_2d.cu\": Preprocessing... Loading... Done.\n",
            "Generating image for seed 18239 (1/501) ...\n",
            "Generating image for seed 18240 (2/501) ...\n",
            "Generating image for seed 18241 (3/501) ...\n",
            "Generating image for seed 18242 (4/501) ...\n",
            "Generating image for seed 18243 (5/501) ...\n",
            "Generating image for seed 18244 (6/501) ...\n",
            "Generating image for seed 18245 (7/501) ...\n",
            "Generating image for seed 18246 (8/501) ...\n",
            "Generating image for seed 18247 (9/501) ...\n",
            "Generating image for seed 18248 (10/501) ...\n",
            "Generating image for seed 18249 (11/501) ...\n",
            "Generating image for seed 18250 (12/501) ...\n",
            "Generating image for seed 18251 (13/501) ...\n",
            "Generating image for seed 18252 (14/501) ...\n",
            "Generating image for seed 18253 (15/501) ...\n",
            "Generating image for seed 18254 (16/501) ...\n",
            "Generating image for seed 18255 (17/501) ...\n",
            "Generating image for seed 18256 (18/501) ...\n",
            "Generating image for seed 18257 (19/501) ...\n",
            "Generating image for seed 18258 (20/501) ...\n",
            "Generating image for seed 18259 (21/501) ...\n",
            "Generating image for seed 18260 (22/501) ...\n",
            "Generating image for seed 18261 (23/501) ...\n",
            "Generating image for seed 18262 (24/501) ...\n",
            "Generating image for seed 18263 (25/501) ...\n",
            "Generating image for seed 18264 (26/501) ...\n",
            "Generating image for seed 18265 (27/501) ...\n",
            "Generating image for seed 18266 (28/501) ...\n",
            "Generating image for seed 18267 (29/501) ...\n",
            "Generating image for seed 18268 (30/501) ...\n",
            "Generating image for seed 18269 (31/501) ...\n",
            "Generating image for seed 18270 (32/501) ...\n",
            "Generating image for seed 18271 (33/501) ...\n",
            "Generating image for seed 18272 (34/501) ...\n",
            "Generating image for seed 18273 (35/501) ...\n",
            "Generating image for seed 18274 (36/501) ...\n",
            "Generating image for seed 18275 (37/501) ...\n",
            "Generating image for seed 18276 (38/501) ...\n",
            "Generating image for seed 18277 (39/501) ...\n",
            "Generating image for seed 18278 (40/501) ...\n",
            "Generating image for seed 18279 (41/501) ...\n",
            "Generating image for seed 18280 (42/501) ...\n",
            "Generating image for seed 18281 (43/501) ...\n",
            "Generating image for seed 18282 (44/501) ...\n",
            "Generating image for seed 18283 (45/501) ...\n",
            "Generating image for seed 18284 (46/501) ...\n",
            "Generating image for seed 18285 (47/501) ...\n",
            "Generating image for seed 18286 (48/501) ...\n",
            "Generating image for seed 18287 (49/501) ...\n",
            "Generating image for seed 18288 (50/501) ...\n",
            "Generating image for seed 18289 (51/501) ...\n",
            "Generating image for seed 18290 (52/501) ...\n",
            "Generating image for seed 18291 (53/501) ...\n",
            "Generating image for seed 18292 (54/501) ...\n",
            "Generating image for seed 18293 (55/501) ...\n",
            "Generating image for seed 18294 (56/501) ...\n",
            "Generating image for seed 18295 (57/501) ...\n",
            "Generating image for seed 18296 (58/501) ...\n",
            "Generating image for seed 18297 (59/501) ...\n",
            "Generating image for seed 18298 (60/501) ...\n",
            "Generating image for seed 18299 (61/501) ...\n",
            "Generating image for seed 18300 (62/501) ...\n",
            "Generating image for seed 18301 (63/501) ...\n",
            "Generating image for seed 18302 (64/501) ...\n",
            "Generating image for seed 18303 (65/501) ...\n",
            "Generating image for seed 18304 (66/501) ...\n",
            "Generating image for seed 18305 (67/501) ...\n",
            "Generating image for seed 18306 (68/501) ...\n",
            "Generating image for seed 18307 (69/501) ...\n",
            "Generating image for seed 18308 (70/501) ...\n",
            "Generating image for seed 18309 (71/501) ...\n",
            "Generating image for seed 18310 (72/501) ...\n",
            "Generating image for seed 18311 (73/501) ...\n",
            "Generating image for seed 18312 (74/501) ...\n",
            "Generating image for seed 18313 (75/501) ...\n",
            "Generating image for seed 18314 (76/501) ...\n",
            "Generating image for seed 18315 (77/501) ...\n",
            "Generating image for seed 18316 (78/501) ...\n",
            "Generating image for seed 18317 (79/501) ...\n",
            "Generating image for seed 18318 (80/501) ...\n",
            "Generating image for seed 18319 (81/501) ...\n",
            "Generating image for seed 18320 (82/501) ...\n",
            "Generating image for seed 18321 (83/501) ...\n",
            "Generating image for seed 18322 (84/501) ...\n",
            "Generating image for seed 18323 (85/501) ...\n",
            "Generating image for seed 18324 (86/501) ...\n",
            "Generating image for seed 18325 (87/501) ...\n",
            "Generating image for seed 18326 (88/501) ...\n",
            "Generating image for seed 18327 (89/501) ...\n",
            "Generating image for seed 18328 (90/501) ...\n",
            "Generating image for seed 18329 (91/501) ...\n",
            "Generating image for seed 18330 (92/501) ...\n",
            "Generating image for seed 18331 (93/501) ...\n",
            "Generating image for seed 18332 (94/501) ...\n",
            "Generating image for seed 18333 (95/501) ...\n",
            "Generating image for seed 18334 (96/501) ...\n",
            "Generating image for seed 18335 (97/501) ...\n",
            "Generating image for seed 18336 (98/501) ...\n",
            "Generating image for seed 18337 (99/501) ...\n",
            "Generating image for seed 18338 (100/501) ...\n",
            "Generating image for seed 18339 (101/501) ...\n",
            "Generating image for seed 18340 (102/501) ...\n",
            "Generating image for seed 18341 (103/501) ...\n",
            "Generating image for seed 18342 (104/501) ...\n",
            "Generating image for seed 18343 (105/501) ...\n",
            "Generating image for seed 18344 (106/501) ...\n",
            "Generating image for seed 18345 (107/501) ...\n",
            "Generating image for seed 18346 (108/501) ...\n",
            "Generating image for seed 18347 (109/501) ...\n",
            "Generating image for seed 18348 (110/501) ...\n",
            "Generating image for seed 18349 (111/501) ...\n",
            "Generating image for seed 18350 (112/501) ...\n",
            "Generating image for seed 18351 (113/501) ...\n",
            "Generating image for seed 18352 (114/501) ...\n",
            "Generating image for seed 18353 (115/501) ...\n",
            "Generating image for seed 18354 (116/501) ...\n",
            "Generating image for seed 18355 (117/501) ...\n",
            "Generating image for seed 18356 (118/501) ...\n",
            "Generating image for seed 18357 (119/501) ...\n",
            "Generating image for seed 18358 (120/501) ...\n",
            "Generating image for seed 18359 (121/501) ...\n",
            "Generating image for seed 18360 (122/501) ...\n",
            "Generating image for seed 18361 (123/501) ...\n",
            "Generating image for seed 18362 (124/501) ...\n",
            "Generating image for seed 18363 (125/501) ...\n",
            "Generating image for seed 18364 (126/501) ...\n",
            "Generating image for seed 18365 (127/501) ...\n",
            "Generating image for seed 18366 (128/501) ...\n",
            "Generating image for seed 18367 (129/501) ...\n",
            "Generating image for seed 18368 (130/501) ...\n",
            "Generating image for seed 18369 (131/501) ...\n",
            "Generating image for seed 18370 (132/501) ...\n",
            "Generating image for seed 18371 (133/501) ...\n",
            "Generating image for seed 18372 (134/501) ...\n",
            "Generating image for seed 18373 (135/501) ...\n",
            "Generating image for seed 18374 (136/501) ...\n",
            "Generating image for seed 18375 (137/501) ...\n",
            "Generating image for seed 18376 (138/501) ...\n",
            "Generating image for seed 18377 (139/501) ...\n",
            "Generating image for seed 18378 (140/501) ...\n",
            "Generating image for seed 18379 (141/501) ...\n",
            "Generating image for seed 18380 (142/501) ...\n",
            "Generating image for seed 18381 (143/501) ...\n",
            "Generating image for seed 18382 (144/501) ...\n",
            "Generating image for seed 18383 (145/501) ...\n",
            "Generating image for seed 18384 (146/501) ...\n",
            "Generating image for seed 18385 (147/501) ...\n",
            "Generating image for seed 18386 (148/501) ...\n",
            "Generating image for seed 18387 (149/501) ...\n",
            "Generating image for seed 18388 (150/501) ...\n",
            "Generating image for seed 18389 (151/501) ...\n",
            "Generating image for seed 18390 (152/501) ...\n",
            "Generating image for seed 18391 (153/501) ...\n",
            "Generating image for seed 18392 (154/501) ...\n",
            "Generating image for seed 18393 (155/501) ...\n",
            "Generating image for seed 18394 (156/501) ...\n",
            "Generating image for seed 18395 (157/501) ...\n",
            "Generating image for seed 18396 (158/501) ...\n",
            "Generating image for seed 18397 (159/501) ...\n",
            "Generating image for seed 18398 (160/501) ...\n",
            "Generating image for seed 18399 (161/501) ...\n",
            "Generating image for seed 18400 (162/501) ...\n",
            "Generating image for seed 18401 (163/501) ...\n",
            "Generating image for seed 18402 (164/501) ...\n",
            "Generating image for seed 18403 (165/501) ...\n",
            "Generating image for seed 18404 (166/501) ...\n",
            "Generating image for seed 18405 (167/501) ...\n",
            "Generating image for seed 18406 (168/501) ...\n",
            "Generating image for seed 18407 (169/501) ...\n",
            "Generating image for seed 18408 (170/501) ...\n",
            "Generating image for seed 18409 (171/501) ...\n",
            "Generating image for seed 18410 (172/501) ...\n",
            "Generating image for seed 18411 (173/501) ...\n",
            "Generating image for seed 18412 (174/501) ...\n",
            "Generating image for seed 18413 (175/501) ...\n",
            "Generating image for seed 18414 (176/501) ...\n",
            "Generating image for seed 18415 (177/501) ...\n",
            "Generating image for seed 18416 (178/501) ...\n",
            "Generating image for seed 18417 (179/501) ...\n",
            "Generating image for seed 18418 (180/501) ...\n",
            "Generating image for seed 18419 (181/501) ...\n",
            "Generating image for seed 18420 (182/501) ...\n",
            "Generating image for seed 18421 (183/501) ...\n",
            "Generating image for seed 18422 (184/501) ...\n",
            "Generating image for seed 18423 (185/501) ...\n",
            "Generating image for seed 18424 (186/501) ...\n",
            "Generating image for seed 18425 (187/501) ...\n",
            "Generating image for seed 18426 (188/501) ...\n",
            "Generating image for seed 18427 (189/501) ...\n",
            "Generating image for seed 18428 (190/501) ...\n",
            "Generating image for seed 18429 (191/501) ...\n",
            "Generating image for seed 18430 (192/501) ...\n",
            "Generating image for seed 18431 (193/501) ...\n",
            "Generating image for seed 18432 (194/501) ...\n",
            "Generating image for seed 18433 (195/501) ...\n",
            "Generating image for seed 18434 (196/501) ...\n",
            "Generating image for seed 18435 (197/501) ...\n",
            "Generating image for seed 18436 (198/501) ...\n",
            "Generating image for seed 18437 (199/501) ...\n",
            "Generating image for seed 18438 (200/501) ...\n",
            "Generating image for seed 18439 (201/501) ...\n",
            "Generating image for seed 18440 (202/501) ...\n",
            "Generating image for seed 18441 (203/501) ...\n",
            "Generating image for seed 18442 (204/501) ...\n",
            "Generating image for seed 18443 (205/501) ...\n",
            "Generating image for seed 18444 (206/501) ...\n",
            "Generating image for seed 18445 (207/501) ...\n",
            "Generating image for seed 18446 (208/501) ...\n",
            "Generating image for seed 18447 (209/501) ...\n",
            "Generating image for seed 18448 (210/501) ...\n",
            "Generating image for seed 18449 (211/501) ...\n",
            "Generating image for seed 18450 (212/501) ...\n",
            "Generating image for seed 18451 (213/501) ...\n",
            "Generating image for seed 18452 (214/501) ...\n",
            "Generating image for seed 18453 (215/501) ...\n",
            "Generating image for seed 18454 (216/501) ...\n",
            "Generating image for seed 18455 (217/501) ...\n",
            "Generating image for seed 18456 (218/501) ...\n",
            "Generating image for seed 18457 (219/501) ...\n",
            "Generating image for seed 18458 (220/501) ...\n",
            "Generating image for seed 18459 (221/501) ...\n",
            "Generating image for seed 18460 (222/501) ...\n",
            "Generating image for seed 18461 (223/501) ...\n",
            "Generating image for seed 18462 (224/501) ...\n",
            "Generating image for seed 18463 (225/501) ...\n",
            "Generating image for seed 18464 (226/501) ...\n",
            "Generating image for seed 18465 (227/501) ...\n",
            "Generating image for seed 18466 (228/501) ...\n",
            "Generating image for seed 18467 (229/501) ...\n",
            "Generating image for seed 18468 (230/501) ...\n",
            "Generating image for seed 18469 (231/501) ...\n",
            "Generating image for seed 18470 (232/501) ...\n",
            "Generating image for seed 18471 (233/501) ...\n",
            "Generating image for seed 18472 (234/501) ...\n",
            "Generating image for seed 18473 (235/501) ...\n",
            "Generating image for seed 18474 (236/501) ...\n",
            "Generating image for seed 18475 (237/501) ...\n",
            "Generating image for seed 18476 (238/501) ...\n",
            "Generating image for seed 18477 (239/501) ...\n",
            "Generating image for seed 18478 (240/501) ...\n",
            "Generating image for seed 18479 (241/501) ...\n",
            "Generating image for seed 18480 (242/501) ...\n",
            "Generating image for seed 18481 (243/501) ...\n",
            "Generating image for seed 18482 (244/501) ...\n",
            "Generating image for seed 18483 (245/501) ...\n",
            "Generating image for seed 18484 (246/501) ...\n",
            "Generating image for seed 18485 (247/501) ...\n",
            "Generating image for seed 18486 (248/501) ...\n",
            "Generating image for seed 18487 (249/501) ...\n",
            "Generating image for seed 18488 (250/501) ...\n",
            "Generating image for seed 18489 (251/501) ...\n",
            "Generating image for seed 18490 (252/501) ...\n",
            "Generating image for seed 18491 (253/501) ...\n",
            "Generating image for seed 18492 (254/501) ...\n",
            "Generating image for seed 18493 (255/501) ...\n",
            "Generating image for seed 18494 (256/501) ...\n",
            "Generating image for seed 18495 (257/501) ...\n",
            "Generating image for seed 18496 (258/501) ...\n",
            "Generating image for seed 18497 (259/501) ...\n",
            "Generating image for seed 18498 (260/501) ...\n",
            "Generating image for seed 18499 (261/501) ...\n",
            "Generating image for seed 18500 (262/501) ...\n",
            "Generating image for seed 18501 (263/501) ...\n",
            "Generating image for seed 18502 (264/501) ...\n",
            "Generating image for seed 18503 (265/501) ...\n",
            "Generating image for seed 18504 (266/501) ...\n",
            "Generating image for seed 18505 (267/501) ...\n",
            "Generating image for seed 18506 (268/501) ...\n",
            "Generating image for seed 18507 (269/501) ...\n",
            "Generating image for seed 18508 (270/501) ...\n",
            "Generating image for seed 18509 (271/501) ...\n",
            "Generating image for seed 18510 (272/501) ...\n",
            "Generating image for seed 18511 (273/501) ...\n",
            "Generating image for seed 18512 (274/501) ...\n",
            "Generating image for seed 18513 (275/501) ...\n",
            "Generating image for seed 18514 (276/501) ...\n",
            "Generating image for seed 18515 (277/501) ...\n",
            "Generating image for seed 18516 (278/501) ...\n",
            "Generating image for seed 18517 (279/501) ...\n",
            "Generating image for seed 18518 (280/501) ...\n",
            "Generating image for seed 18519 (281/501) ...\n",
            "Generating image for seed 18520 (282/501) ...\n",
            "Generating image for seed 18521 (283/501) ...\n",
            "Generating image for seed 18522 (284/501) ...\n",
            "Generating image for seed 18523 (285/501) ...\n",
            "Generating image for seed 18524 (286/501) ...\n",
            "Generating image for seed 18525 (287/501) ...\n",
            "Generating image for seed 18526 (288/501) ...\n",
            "Generating image for seed 18527 (289/501) ...\n",
            "Generating image for seed 18528 (290/501) ...\n",
            "Generating image for seed 18529 (291/501) ...\n",
            "Generating image for seed 18530 (292/501) ...\n",
            "Generating image for seed 18531 (293/501) ...\n",
            "Generating image for seed 18532 (294/501) ...\n",
            "Generating image for seed 18533 (295/501) ...\n",
            "Generating image for seed 18534 (296/501) ...\n",
            "Generating image for seed 18535 (297/501) ...\n",
            "Generating image for seed 18536 (298/501) ...\n",
            "Generating image for seed 18537 (299/501) ...\n",
            "Generating image for seed 18538 (300/501) ...\n",
            "Generating image for seed 18539 (301/501) ...\n",
            "Generating image for seed 18540 (302/501) ...\n",
            "Generating image for seed 18541 (303/501) ...\n",
            "Generating image for seed 18542 (304/501) ...\n",
            "Generating image for seed 18543 (305/501) ...\n",
            "Generating image for seed 18544 (306/501) ...\n",
            "Generating image for seed 18545 (307/501) ...\n",
            "Generating image for seed 18546 (308/501) ...\n",
            "Generating image for seed 18547 (309/501) ...\n",
            "Generating image for seed 18548 (310/501) ...\n",
            "Generating image for seed 18549 (311/501) ...\n",
            "Generating image for seed 18550 (312/501) ...\n",
            "Generating image for seed 18551 (313/501) ...\n",
            "Generating image for seed 18552 (314/501) ...\n",
            "Generating image for seed 18553 (315/501) ...\n",
            "Generating image for seed 18554 (316/501) ...\n",
            "Generating image for seed 18555 (317/501) ...\n",
            "Generating image for seed 18556 (318/501) ...\n",
            "Generating image for seed 18557 (319/501) ...\n",
            "Generating image for seed 18558 (320/501) ...\n",
            "Generating image for seed 18559 (321/501) ...\n",
            "Generating image for seed 18560 (322/501) ...\n",
            "Generating image for seed 18561 (323/501) ...\n",
            "Generating image for seed 18562 (324/501) ...\n",
            "Generating image for seed 18563 (325/501) ...\n",
            "Generating image for seed 18564 (326/501) ...\n",
            "Generating image for seed 18565 (327/501) ...\n",
            "Generating image for seed 18566 (328/501) ...\n",
            "Generating image for seed 18567 (329/501) ...\n",
            "Generating image for seed 18568 (330/501) ...\n",
            "Generating image for seed 18569 (331/501) ...\n",
            "Generating image for seed 18570 (332/501) ...\n",
            "Generating image for seed 18571 (333/501) ...\n",
            "Generating image for seed 18572 (334/501) ...\n",
            "Generating image for seed 18573 (335/501) ...\n",
            "Generating image for seed 18574 (336/501) ...\n",
            "Generating image for seed 18575 (337/501) ...\n",
            "Generating image for seed 18576 (338/501) ...\n",
            "Generating image for seed 18577 (339/501) ...\n",
            "Generating image for seed 18578 (340/501) ...\n",
            "Generating image for seed 18579 (341/501) ...\n",
            "Generating image for seed 18580 (342/501) ...\n",
            "Generating image for seed 18581 (343/501) ...\n",
            "Generating image for seed 18582 (344/501) ...\n",
            "Generating image for seed 18583 (345/501) ...\n",
            "Generating image for seed 18584 (346/501) ...\n",
            "Generating image for seed 18585 (347/501) ...\n",
            "Generating image for seed 18586 (348/501) ...\n",
            "Generating image for seed 18587 (349/501) ...\n",
            "Generating image for seed 18588 (350/501) ...\n",
            "Generating image for seed 18589 (351/501) ...\n",
            "Generating image for seed 18590 (352/501) ...\n",
            "Generating image for seed 18591 (353/501) ...\n",
            "Generating image for seed 18592 (354/501) ...\n",
            "Generating image for seed 18593 (355/501) ...\n",
            "Generating image for seed 18594 (356/501) ...\n",
            "Generating image for seed 18595 (357/501) ...\n",
            "Generating image for seed 18596 (358/501) ...\n",
            "Generating image for seed 18597 (359/501) ...\n",
            "Generating image for seed 18598 (360/501) ...\n",
            "Generating image for seed 18599 (361/501) ...\n",
            "Generating image for seed 18600 (362/501) ...\n",
            "Generating image for seed 18601 (363/501) ...\n",
            "Generating image for seed 18602 (364/501) ...\n",
            "Generating image for seed 18603 (365/501) ...\n",
            "Generating image for seed 18604 (366/501) ...\n",
            "Generating image for seed 18605 (367/501) ...\n",
            "Generating image for seed 18606 (368/501) ...\n",
            "Generating image for seed 18607 (369/501) ...\n",
            "Generating image for seed 18608 (370/501) ...\n",
            "Generating image for seed 18609 (371/501) ...\n",
            "Generating image for seed 18610 (372/501) ...\n",
            "Generating image for seed 18611 (373/501) ...\n",
            "Generating image for seed 18612 (374/501) ...\n",
            "Generating image for seed 18613 (375/501) ...\n",
            "Generating image for seed 18614 (376/501) ...\n",
            "Generating image for seed 18615 (377/501) ...\n",
            "Generating image for seed 18616 (378/501) ...\n",
            "Generating image for seed 18617 (379/501) ...\n",
            "Generating image for seed 18618 (380/501) ...\n",
            "Generating image for seed 18619 (381/501) ...\n",
            "Generating image for seed 18620 (382/501) ...\n",
            "Generating image for seed 18621 (383/501) ...\n",
            "Generating image for seed 18622 (384/501) ...\n",
            "Generating image for seed 18623 (385/501) ...\n",
            "Generating image for seed 18624 (386/501) ...\n",
            "Generating image for seed 18625 (387/501) ...\n",
            "Generating image for seed 18626 (388/501) ...\n",
            "Generating image for seed 18627 (389/501) ...\n",
            "Generating image for seed 18628 (390/501) ...\n",
            "Generating image for seed 18629 (391/501) ...\n",
            "Generating image for seed 18630 (392/501) ...\n",
            "Generating image for seed 18631 (393/501) ...\n",
            "Generating image for seed 18632 (394/501) ...\n",
            "Generating image for seed 18633 (395/501) ...\n",
            "Generating image for seed 18634 (396/501) ...\n",
            "Generating image for seed 18635 (397/501) ...\n",
            "Generating image for seed 18636 (398/501) ...\n",
            "Generating image for seed 18637 (399/501) ...\n",
            "Generating image for seed 18638 (400/501) ...\n",
            "Generating image for seed 18639 (401/501) ...\n",
            "Generating image for seed 18640 (402/501) ...\n",
            "Generating image for seed 18641 (403/501) ...\n",
            "Generating image for seed 18642 (404/501) ...\n",
            "Generating image for seed 18643 (405/501) ...\n",
            "Generating image for seed 18644 (406/501) ...\n",
            "Generating image for seed 18645 (407/501) ...\n",
            "Generating image for seed 18646 (408/501) ...\n",
            "Generating image for seed 18647 (409/501) ...\n",
            "Generating image for seed 18648 (410/501) ...\n",
            "Generating image for seed 18649 (411/501) ...\n",
            "Generating image for seed 18650 (412/501) ...\n",
            "Generating image for seed 18651 (413/501) ...\n",
            "Generating image for seed 18652 (414/501) ...\n",
            "Generating image for seed 18653 (415/501) ...\n",
            "Generating image for seed 18654 (416/501) ...\n",
            "Generating image for seed 18655 (417/501) ...\n",
            "Generating image for seed 18656 (418/501) ...\n",
            "Generating image for seed 18657 (419/501) ...\n",
            "Generating image for seed 18658 (420/501) ...\n",
            "Generating image for seed 18659 (421/501) ...\n",
            "Generating image for seed 18660 (422/501) ...\n",
            "Generating image for seed 18661 (423/501) ...\n",
            "Generating image for seed 18662 (424/501) ...\n",
            "Generating image for seed 18663 (425/501) ...\n",
            "Generating image for seed 18664 (426/501) ...\n",
            "Generating image for seed 18665 (427/501) ...\n",
            "Generating image for seed 18666 (428/501) ...\n",
            "Generating image for seed 18667 (429/501) ...\n",
            "Generating image for seed 18668 (430/501) ...\n",
            "Generating image for seed 18669 (431/501) ...\n",
            "Generating image for seed 18670 (432/501) ...\n",
            "Generating image for seed 18671 (433/501) ...\n",
            "Generating image for seed 18672 (434/501) ...\n",
            "Generating image for seed 18673 (435/501) ...\n",
            "Generating image for seed 18674 (436/501) ...\n",
            "Generating image for seed 18675 (437/501) ...\n",
            "Generating image for seed 18676 (438/501) ...\n",
            "Generating image for seed 18677 (439/501) ...\n",
            "Generating image for seed 18678 (440/501) ...\n",
            "Generating image for seed 18679 (441/501) ...\n",
            "Generating image for seed 18680 (442/501) ...\n",
            "Generating image for seed 18681 (443/501) ...\n",
            "Generating image for seed 18682 (444/501) ...\n",
            "Generating image for seed 18683 (445/501) ...\n",
            "Generating image for seed 18684 (446/501) ...\n",
            "Generating image for seed 18685 (447/501) ...\n",
            "Generating image for seed 18686 (448/501) ...\n",
            "Generating image for seed 18687 (449/501) ...\n",
            "Generating image for seed 18688 (450/501) ...\n",
            "Generating image for seed 18689 (451/501) ...\n",
            "Generating image for seed 18690 (452/501) ...\n",
            "Generating image for seed 18691 (453/501) ...\n",
            "Generating image for seed 18692 (454/501) ...\n",
            "Generating image for seed 18693 (455/501) ...\n",
            "Generating image for seed 18694 (456/501) ...\n",
            "Generating image for seed 18695 (457/501) ...\n",
            "Generating image for seed 18696 (458/501) ...\n",
            "Generating image for seed 18697 (459/501) ...\n",
            "Generating image for seed 18698 (460/501) ...\n",
            "Generating image for seed 18699 (461/501) ...\n",
            "Generating image for seed 18700 (462/501) ...\n",
            "Generating image for seed 18701 (463/501) ...\n",
            "Generating image for seed 18702 (464/501) ...\n",
            "Generating image for seed 18703 (465/501) ...\n",
            "Generating image for seed 18704 (466/501) ...\n",
            "Generating image for seed 18705 (467/501) ...\n",
            "Generating image for seed 18706 (468/501) ...\n",
            "Generating image for seed 18707 (469/501) ...\n",
            "Generating image for seed 18708 (470/501) ...\n",
            "Generating image for seed 18709 (471/501) ...\n",
            "Generating image for seed 18710 (472/501) ...\n",
            "Generating image for seed 18711 (473/501) ...\n",
            "Generating image for seed 18712 (474/501) ...\n",
            "Generating image for seed 18713 (475/501) ...\n",
            "Generating image for seed 18714 (476/501) ...\n",
            "Generating image for seed 18715 (477/501) ...\n",
            "Generating image for seed 18716 (478/501) ...\n",
            "Generating image for seed 18717 (479/501) ...\n",
            "Generating image for seed 18718 (480/501) ...\n",
            "Generating image for seed 18719 (481/501) ...\n",
            "Generating image for seed 18720 (482/501) ...\n",
            "Generating image for seed 18721 (483/501) ...\n",
            "Generating image for seed 18722 (484/501) ...\n",
            "Generating image for seed 18723 (485/501) ...\n",
            "Generating image for seed 18724 (486/501) ...\n",
            "Generating image for seed 18725 (487/501) ...\n",
            "Generating image for seed 18726 (488/501) ...\n",
            "Generating image for seed 18727 (489/501) ...\n",
            "Generating image for seed 18728 (490/501) ...\n",
            "Generating image for seed 18729 (491/501) ...\n",
            "Generating image for seed 18730 (492/501) ...\n",
            "Generating image for seed 18731 (493/501) ...\n",
            "Generating image for seed 18732 (494/501) ...\n",
            "Generating image for seed 18733 (495/501) ...\n",
            "Generating image for seed 18734 (496/501) ...\n",
            "Generating image for seed 18735 (497/501) ...\n",
            "Generating image for seed 18736 (498/501) ...\n",
            "Generating image for seed 18737 (499/501) ...\n",
            "Generating image for seed 18738 (500/501) ...\n",
            "Generating image for seed 18739 (501/501) ...\n",
            "dnnlib: Finished run_generator.generate_images() in 1m 58s.\n"
          ]
        }
      ]
    },
    {
      "cell_type": "markdown",
      "metadata": {
        "id": "FMiqkA3IReZB"
      },
      "source": [
        "Let’s zip the generated files and download them."
      ]
    },
    {
      "cell_type": "markdown",
      "metadata": {
        "id": "CqbZgzUBrekc"
      },
      "source": [
        "- If you do have a problem in running the code. I can surely help you out with anything that is related to it.\n",
        "- I have optimized and chosen the best possible repository to minimize possible errors in the code."
      ]
    },
    {
      "cell_type": "markdown",
      "metadata": {
        "id": "zbfTa2iKr4ny"
      },
      "source": [
        "# Thank You"
      ]
    }
  ]
}