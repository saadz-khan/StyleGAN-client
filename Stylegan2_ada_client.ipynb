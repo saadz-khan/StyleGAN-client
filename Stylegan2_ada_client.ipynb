{
  "nbformat": 4,
  "nbformat_minor": 0,
  "metadata": {
    "colab": {
      "name": "Stylegan2-ada Custom Training.ipynb",
      "provenance": [],
      "collapsed_sections": [],
      "machine_shape": "hm",
      "include_colab_link": true
    },
    "kernelspec": {
      "name": "python3",
      "display_name": "Python 3"
    },
    "accelerator": "GPU"
  },
  "cells": [
    {
      "cell_type": "markdown",
      "metadata": {
        "id": "view-in-github",
        "colab_type": "text"
      },
      "source": [
        "<a href=\"https://colab.research.google.com/github/saadz-khan/StyleGAN-client/blob/master/Stylegan2_ada_client.ipynb\" target=\"_parent\"><img src=\"https://colab.research.google.com/assets/colab-badge.svg\" alt=\"Open In Colab\"/></a>"
      ]
    },
    {
      "cell_type": "markdown",
      "metadata": {
        "id": "lxvANTYPYASV"
      },
      "source": [
        "#Training StyleGAN2 on Colab\n",
        "\n",
        "Use Colab Pro+ ($49.99/month), Colab Pro ($10.00/month) to get a couple extra hours of training time in per session and do not run into low-RAM issues.\n",
        "\n",
        "Recommended: Colab Pro ($10.00 per month)"
      ]
    },
    {
      "cell_type": "markdown",
      "metadata": {
        "id": "95xTpqpzYBmy"
      },
      "source": [
        "# Setting up only once. Kindly check the option\n",
        "<center>  \n",
        "\n",
        "![image](https://media.giphy.com/media/IFRhbMJSy3IaNZulCk/source.gif?cid=790b76116b562dd18158c804953ae06343645e756f8ed52d&rid=source.gif&ct=g)\n"
      ]
    },
    {
      "cell_type": "markdown",
      "metadata": {
        "id": "cPI5E5y0pujD"
      },
      "source": [
        "# Custom Training StyleGan2-ADA"
      ]
    },
    {
      "cell_type": "markdown",
      "metadata": {
        "id": "SI_i1MwgpzOD"
      },
      "source": [
        "StyleGAN2-ADA only work with Tensorflow 1. Run the next cell before anything else to make sure we’re using TF1 and not TF2."
      ]
    },
    {
      "cell_type": "code",
      "metadata": {
        "id": "iKYAU7Wub3WW",
        "colab": {
          "base_uri": "https://localhost:8080/"
        },
        "outputId": "bb1402e8-217f-459d-bb81-c8f237dc211e"
      },
      "source": [
        "%tensorflow_version 1.x"
      ],
      "execution_count": 1,
      "outputs": [
        {
          "output_type": "stream",
          "name": "stdout",
          "text": [
            "TensorFlow 1.x selected.\n"
          ]
        }
      ]
    },
    {
      "cell_type": "code",
      "metadata": {
        "id": "51ei6d5kxVDm",
        "colab": {
          "base_uri": "https://localhost:8080/"
        },
        "outputId": "43d6c5d1-1f62-4a0b-c550-904e14c28da9"
      },
      "source": [
        "!nvidia-smi"
      ],
      "execution_count": 2,
      "outputs": [
        {
          "output_type": "stream",
          "name": "stdout",
          "text": [
            "Sat Oct 23 09:31:36 2021       \n",
            "+-----------------------------------------------------------------------------+\n",
            "| NVIDIA-SMI 470.74       Driver Version: 460.32.03    CUDA Version: 11.2     |\n",
            "|-------------------------------+----------------------+----------------------+\n",
            "| GPU  Name        Persistence-M| Bus-Id        Disp.A | Volatile Uncorr. ECC |\n",
            "| Fan  Temp  Perf  Pwr:Usage/Cap|         Memory-Usage | GPU-Util  Compute M. |\n",
            "|                               |                      |               MIG M. |\n",
            "|===============================+======================+======================|\n",
            "|   0  Tesla K80           Off  | 00000000:00:04.0 Off |                    0 |\n",
            "| N/A   55C    P8    33W / 149W |      0MiB / 11441MiB |      0%      Default |\n",
            "|                               |                      |                  N/A |\n",
            "+-------------------------------+----------------------+----------------------+\n",
            "                                                                               \n",
            "+-----------------------------------------------------------------------------+\n",
            "| Processes:                                                                  |\n",
            "|  GPU   GI   CI        PID   Type   Process name                  GPU Memory |\n",
            "|        ID   ID                                                   Usage      |\n",
            "|=============================================================================|\n",
            "|  No running processes found                                                 |\n",
            "+-----------------------------------------------------------------------------+\n"
          ]
        }
      ]
    },
    {
      "cell_type": "markdown",
      "metadata": {
        "id": "5YcUMPQp6ipP"
      },
      "source": [
        "# Install Repo to Google Drive\n",
        "\n",
        "Colab is a little funky with training. I’ve found the best way to do this is to install the repo directly into your Google Drive folder.\n",
        "\n",
        "First, mount your Drive to the Colab notebook: |\n",
        "\n",
        "## Mounting Google Drive\n",
        "So I’m actually gonna install my entire repo directly into your Google Drive. This will make the setup a little easier.\n",
        "\n",
        "First, connect your Drive to Colab. Gif explains how to:\n",
        "\n",
        "<p align=\"center\">\n",
        "  <img src=\"https://media.giphy.com/media/WKMU25D95cjqWw9GCS/source.gif?cid=790b7611b611ba7d6a09693279bea7a3e08cb1e976b1b827&rid=source.gif&ct=g\" alt=\"animated-gif2\" />\n",
        "</p>  "
      ]
    },
    {
      "cell_type": "code",
      "metadata": {
        "id": "pxxYlEKI9Gis",
        "colab": {
          "base_uri": "https://localhost:8080/"
        },
        "outputId": "6e5d4bae-7642-4088-be73-bf8dff827303"
      },
      "source": [
        "from google.colab import drive\n",
        "drive.mount('/content/drive')"
      ],
      "execution_count": 3,
      "outputs": [
        {
          "output_type": "stream",
          "name": "stdout",
          "text": [
            "Mounted at /content/drive\n"
          ]
        }
      ]
    },
    {
      "cell_type": "markdown",
      "metadata": {
        "id": "epV6TDzAjox1"
      },
      "source": [
        "# Installing and Updating the Repo\n",
        "Next, run this cell. If you’re already installed the repo,  \n",
        "It will skip the installation process and change into the repo’s directory. If you haven’t installed it, it will install all the files necessary."
      ]
    },
    {
      "cell_type": "code",
      "metadata": {
        "id": "8HX77jscX2zV",
        "colab": {
          "base_uri": "https://localhost:8080/"
        },
        "outputId": "5a5fab33-3781-4134-a57d-9f9a13ce4a79"
      },
      "source": [
        "import os\n",
        "if os.path.isdir(\"/content/drive/My Drive/colab-sg2-ada\"):\n",
        "    %cd \"/content/drive/My Drive/colab-sg2-ada/stylegan2-ada\"\n",
        "else:\n",
        "    #install script\n",
        "    %cd \"/content/drive/My Drive/\"\n",
        "    !mkdir colab-sg2-ada\n",
        "    %cd colab-sg2-ada\n",
        "    !git clone https://github.com/dvschultz/stylegan2-ada\n",
        "    %cd stylegan2-ada\n",
        "    !mkdir downloads\n",
        "    !mkdir datasets"
      ],
      "execution_count": 4,
      "outputs": [
        {
          "output_type": "stream",
          "name": "stdout",
          "text": [
            "/content/drive/My Drive/colab-sg2-ada/stylegan2-ada\n"
          ]
        }
      ]
    },
    {
      "cell_type": "code",
      "metadata": {
        "id": "G7oj_kBaemol",
        "colab": {
          "base_uri": "https://localhost:8080/"
        },
        "outputId": "b38d8176-9e34-4630-c2c0-ba95402c5e05"
      },
      "source": [
        "%cd \"/content/drive/My Drive/colab-sg2-ada/stylegan2-ada\"\n",
        "!git config --global user.name \"test\"\n",
        "!git config --global user.email \"test@test.com\"\n",
        "!git fetch origin\n",
        "!git checkout origin/main -- train.py"
      ],
      "execution_count": 5,
      "outputs": [
        {
          "output_type": "stream",
          "name": "stdout",
          "text": [
            "/content/drive/My Drive/colab-sg2-ada/stylegan2-ada\n"
          ]
        }
      ]
    },
    {
      "cell_type": "markdown",
      "metadata": {
        "id": "QdaHV4W2dXOF"
      },
      "source": [
        "## Adding the dataset (Do not run) For testing"
      ]
    },
    {
      "cell_type": "code",
      "metadata": {
        "id": "MU-9VfuCgBw1",
        "colab": {
          "base_uri": "https://localhost:8080/"
        },
        "outputId": "6216cf24-313e-4ea7-95e1-b6ef146a17aa"
      },
      "source": [
        "!pip install kaggle-cli"
      ],
      "execution_count": 6,
      "outputs": [
        {
          "output_type": "stream",
          "name": "stdout",
          "text": [
            "Collecting kaggle-cli\n",
            "  Downloading kaggle-cli-0.12.13.tar.gz (6.5 kB)\n",
            "Collecting cliff<2.9,>=2.8.0\n",
            "  Downloading cliff-2.8.3-py2.py3-none-any.whl (74 kB)\n",
            "\u001b[K     |████████████████████████████████| 74 kB 2.1 MB/s \n",
            "\u001b[?25hCollecting MechanicalSoup<0.9,>=0.7.0\n",
            "  Downloading MechanicalSoup-0.8.0-py2.py3-none-any.whl (8.9 kB)\n",
            "Collecting lxml<4.1,>=4.0.0\n",
            "  Downloading lxml-4.0.0.tar.gz (4.2 MB)\n",
            "\u001b[K     |████████████████████████████████| 4.2 MB 19.5 MB/s \n",
            "\u001b[?25hCollecting cssselect<1.1,>=1.0.1\n",
            "  Downloading cssselect-1.0.3-py2.py3-none-any.whl (16 kB)\n",
            "Collecting configparser\n",
            "  Downloading configparser-5.0.2-py3-none-any.whl (19 kB)\n",
            "Collecting progressbar2<3.35,>=3.34.3\n",
            "  Downloading progressbar2-3.34.3-py2.py3-none-any.whl (25 kB)\n",
            "Requirement already satisfied: beautifulsoup4<4.7,>=4.6.0 in /usr/local/lib/python3.7/dist-packages (from kaggle-cli) (4.6.3)\n",
            "Requirement already satisfied: pyparsing>=2.1.0 in /usr/local/lib/python3.7/dist-packages (from cliff<2.9,>=2.8.0->kaggle-cli) (2.4.7)\n",
            "Requirement already satisfied: PyYAML>=3.10.0 in /usr/local/lib/python3.7/dist-packages (from cliff<2.9,>=2.8.0->kaggle-cli) (3.13)\n",
            "Collecting stevedore>=1.20.0\n",
            "  Downloading stevedore-3.5.0-py3-none-any.whl (49 kB)\n",
            "\u001b[K     |████████████████████████████████| 49 kB 5.4 MB/s \n",
            "\u001b[?25hCollecting cmd2>=0.6.7\n",
            "  Downloading cmd2-2.2.0-py3-none-any.whl (144 kB)\n",
            "\u001b[K     |████████████████████████████████| 144 kB 49.8 MB/s \n",
            "\u001b[?25hRequirement already satisfied: six>=1.9.0 in /usr/local/lib/python3.7/dist-packages (from cliff<2.9,>=2.8.0->kaggle-cli) (1.15.0)\n",
            "Collecting pbr!=2.1.0,>=2.0.0\n",
            "  Downloading pbr-5.6.0-py2.py3-none-any.whl (111 kB)\n",
            "\u001b[K     |████████████████████████████████| 111 kB 50.3 MB/s \n",
            "\u001b[?25hCollecting PrettyTable<0.8,>=0.7.1\n",
            "  Downloading prettytable-0.7.2.zip (28 kB)\n",
            "Collecting pyperclip>=1.6\n",
            "  Downloading pyperclip-1.8.2.tar.gz (20 kB)\n",
            "Requirement already satisfied: attrs>=16.3.0 in /usr/local/lib/python3.7/dist-packages (from cmd2>=0.6.7->cliff<2.9,>=2.8.0->kaggle-cli) (21.2.0)\n",
            "Requirement already satisfied: importlib-metadata>=1.6.0 in /usr/local/lib/python3.7/dist-packages (from cmd2>=0.6.7->cliff<2.9,>=2.8.0->kaggle-cli) (4.8.1)\n",
            "Collecting colorama>=0.3.7\n",
            "  Downloading colorama-0.4.4-py2.py3-none-any.whl (16 kB)\n",
            "Requirement already satisfied: wcwidth>=0.1.7 in /usr/local/lib/python3.7/dist-packages (from cmd2>=0.6.7->cliff<2.9,>=2.8.0->kaggle-cli) (0.2.5)\n",
            "Requirement already satisfied: typing-extensions in /usr/local/lib/python3.7/dist-packages (from cmd2>=0.6.7->cliff<2.9,>=2.8.0->kaggle-cli) (3.7.4.3)\n",
            "Requirement already satisfied: zipp>=0.5 in /usr/local/lib/python3.7/dist-packages (from importlib-metadata>=1.6.0->cmd2>=0.6.7->cliff<2.9,>=2.8.0->kaggle-cli) (3.6.0)\n",
            "Requirement already satisfied: requests>=2.0 in /usr/local/lib/python3.7/dist-packages (from MechanicalSoup<0.9,>=0.7.0->kaggle-cli) (2.23.0)\n",
            "Requirement already satisfied: python-utils>=2.1.0 in /usr/local/lib/python3.7/dist-packages (from progressbar2<3.35,>=3.34.3->kaggle-cli) (2.5.6)\n",
            "Requirement already satisfied: idna<3,>=2.5 in /usr/local/lib/python3.7/dist-packages (from requests>=2.0->MechanicalSoup<0.9,>=0.7.0->kaggle-cli) (2.10)\n",
            "Requirement already satisfied: certifi>=2017.4.17 in /usr/local/lib/python3.7/dist-packages (from requests>=2.0->MechanicalSoup<0.9,>=0.7.0->kaggle-cli) (2021.5.30)\n",
            "Requirement already satisfied: urllib3!=1.25.0,!=1.25.1,<1.26,>=1.21.1 in /usr/local/lib/python3.7/dist-packages (from requests>=2.0->MechanicalSoup<0.9,>=0.7.0->kaggle-cli) (1.24.3)\n",
            "Requirement already satisfied: chardet<4,>=3.0.2 in /usr/local/lib/python3.7/dist-packages (from requests>=2.0->MechanicalSoup<0.9,>=0.7.0->kaggle-cli) (3.0.4)\n",
            "Building wheels for collected packages: kaggle-cli, lxml, PrettyTable, pyperclip\n",
            "  Building wheel for kaggle-cli (setup.py) ... \u001b[?25l\u001b[?25hdone\n",
            "  Created wheel for kaggle-cli: filename=kaggle_cli-0.12.13-py3-none-any.whl size=9487 sha256=40604f5f800ac08e34c804d993315cbf9f650b073c3153ec60a8761b3ee7e25e\n",
            "  Stored in directory: /root/.cache/pip/wheels/76/b7/49/f439aedefd1839a586a54a03f30d5b9a5320c703cbee1631be\n",
            "  Building wheel for lxml (setup.py) ... \u001b[?25lerror\n",
            "\u001b[31m  ERROR: Failed building wheel for lxml\u001b[0m\n",
            "\u001b[?25h  Running setup.py clean for lxml\n",
            "  Building wheel for PrettyTable (setup.py) ... \u001b[?25l\u001b[?25hdone\n",
            "  Created wheel for PrettyTable: filename=prettytable-0.7.2-py3-none-any.whl size=13714 sha256=e29dd4f4b6ca88e476f68fea5ee50f0ba40e3461932addddce1f649d775020fc\n",
            "  Stored in directory: /root/.cache/pip/wheels/b2/7f/f6/f180315b584f00445045ff1699b550fa895d09471337ce21c6\n",
            "  Building wheel for pyperclip (setup.py) ... \u001b[?25l\u001b[?25hdone\n",
            "  Created wheel for pyperclip: filename=pyperclip-1.8.2-py3-none-any.whl size=11136 sha256=889875a2bfa7a5ef15e9bd3cc84050ba500f47b7d556a4b4a4f2b9670574b5be\n",
            "  Stored in directory: /root/.cache/pip/wheels/9f/18/84/8f69f8b08169c7bae2dde6bd7daf0c19fca8c8e500ee620a28\n",
            "Successfully built kaggle-cli PrettyTable pyperclip\n",
            "Failed to build lxml\n",
            "Installing collected packages: pyperclip, pbr, colorama, stevedore, PrettyTable, cmd2, progressbar2, MechanicalSoup, lxml, cssselect, configparser, cliff, kaggle-cli\n",
            "  Attempting uninstall: PrettyTable\n",
            "    Found existing installation: prettytable 2.2.1\n",
            "    Uninstalling prettytable-2.2.1:\n",
            "      Successfully uninstalled prettytable-2.2.1\n",
            "  Attempting uninstall: progressbar2\n",
            "    Found existing installation: progressbar2 3.38.0\n",
            "    Uninstalling progressbar2-3.38.0:\n",
            "      Successfully uninstalled progressbar2-3.38.0\n",
            "  Attempting uninstall: lxml\n",
            "    Found existing installation: lxml 4.2.6\n",
            "    Uninstalling lxml-4.2.6:\n",
            "      Successfully uninstalled lxml-4.2.6\n",
            "    Running setup.py install for lxml ... \u001b[?25l\u001b[?25herror\n",
            "  Rolling back uninstall of lxml\n",
            "  Moving to /usr/local/lib/python3.7/dist-packages/lxml-4.2.6.dist-info/\n",
            "   from /usr/local/lib/python3.7/dist-packages/~xml-4.2.6.dist-info\n",
            "  Moving to /usr/local/lib/python3.7/dist-packages/lxml/\n",
            "   from /usr/local/lib/python3.7/dist-packages/~xml\n",
            "\u001b[31mERROR: Command errored out with exit status 1: /usr/bin/python3 -u -c 'import io, os, sys, setuptools, tokenize; sys.argv[0] = '\"'\"'/tmp/pip-install-iahu6gl2/lxml_c2a33ea1c7e34809b26bbb829179129b/setup.py'\"'\"'; __file__='\"'\"'/tmp/pip-install-iahu6gl2/lxml_c2a33ea1c7e34809b26bbb829179129b/setup.py'\"'\"';f = getattr(tokenize, '\"'\"'open'\"'\"', open)(__file__) if os.path.exists(__file__) else io.StringIO('\"'\"'from setuptools import setup; setup()'\"'\"');code = f.read().replace('\"'\"'\\r\\n'\"'\"', '\"'\"'\\n'\"'\"');f.close();exec(compile(code, __file__, '\"'\"'exec'\"'\"'))' install --record /tmp/pip-record-mg952bpa/install-record.txt --single-version-externally-managed --compile --install-headers /usr/local/include/python3.7/lxml Check the logs for full command output.\u001b[0m\n"
          ]
        }
      ]
    },
    {
      "cell_type": "code",
      "metadata": {
        "id": "F-5CC_EvddrW",
        "colab": {
          "base_uri": "https://localhost:8080/"
        },
        "outputId": "4c988288-c28c-4e05-a545-43afbade8eb6"
      },
      "source": [
        "%cd /content/drive/My\\ Drive/\n",
        "!mkdir ./data\n",
        "!mkdir ./data/robgon-abstract/\n",
        "#!mkdir /content/drive/My\\ Drive/data/abstract-art\n",
        "#!cp kaggle.json /content/drive/My\\ Drive/kaggle/"
      ],
      "execution_count": 7,
      "outputs": [
        {
          "output_type": "stream",
          "name": "stdout",
          "text": [
            "/content/drive/My Drive\n",
            "mkdir: cannot create directory ‘./data’: File exists\n",
            "mkdir: cannot create directory ‘./data/robgon-abstract/’: File exists\n"
          ]
        }
      ]
    },
    {
      "cell_type": "code",
      "metadata": {
        "id": "b_jiZ_rqfpfS",
        "colab": {
          "base_uri": "https://localhost:8080/"
        },
        "outputId": "260d116d-aa95-4319-df6c-c47ef59e80e9"
      },
      "source": [
        "!cp /content/drive/MyDrive/Dataset/kaggle.json ~/.kaggle/\n",
        "!cat ~/.kaggle/kaggle.json \n",
        "!chmod 600 ~/.kaggle/kaggle.json"
      ],
      "execution_count": 12,
      "outputs": [
        {
          "output_type": "stream",
          "name": "stdout",
          "text": [
            "{\"username\":\"szk2001\",\"key\":\"01f895c6fe20d41b16b7dcfaf51a64e8\"}"
          ]
        }
      ]
    },
    {
      "cell_type": "code",
      "metadata": {
        "id": "M119p23jf6mK"
      },
      "source": [
        "#!kaggle datasets download -d robgonsalves/abstract-paintings -p Dataset\n",
        "!kaggle datasets download -d arnaud58/landscape-pictures-p Dataset"
      ],
      "execution_count": null,
      "outputs": []
    },
    {
      "cell_type": "code",
      "metadata": {
        "id": "nOq9R0eggsvj"
      },
      "source": [
        "#!mkdir /content/drive/MyDrive/Dataset/robgon-abstract\n",
        "#!unzip /content/drive/MyDrive/Dataset/abstract-paintings.zip -d /content/drive/MyDrive/Dataset/robgon-abstract\n",
        "!rm -rf /content/drive/MyDrive/Dataset/abstract-paintings.zip"
      ],
      "execution_count": 19,
      "outputs": []
    },
    {
      "cell_type": "markdown",
      "metadata": {
        "id": "HeS9tDvt61VG"
      },
      "source": [
        "## Convert dataset to .tfrecords"
      ]
    },
    {
      "cell_type": "markdown",
      "metadata": {
        "id": "_Q58MJbckLUc"
      },
      "source": [
        "**Note: You only need to do this once per dataset. If you have already run this and are returning to conntinue training, skip these cells.**\n",
        "\n",
        "Next we need to convert our image dataset to a format that StyleGAN2-ADA can read from. There are two options here. You can upload your dataset directly to Colab (as a zipped file), or you can upload it to Drive directly and read it from there."
      ]
    },
    {
      "cell_type": "code",
      "metadata": {
        "id": "8JUP51nJdEjz",
        "colab": {
          "base_uri": "https://localhost:8080/"
        },
        "outputId": "a06dc43a-a922-451c-b476-4875840943a6"
      },
      "source": [
        "#if you manually uploaded your dataset to Colab, unzip it Only once\n",
        "zip_path = \"/content/abc.zip\"\n",
        "\n",
        "!unzip {zip_path} -d /content/"
      ],
      "execution_count": 20,
      "outputs": [
        {
          "output_type": "stream",
          "name": "stdout",
          "text": [
            "unzip:  cannot find or open /content/drive/MyDrive/Dataset/robgon-abstract, /content/drive/MyDrive/Dataset/robgon-abstract.zip or /content/drive/MyDrive/Dataset/robgon-abstract.ZIP.\n"
          ]
        }
      ]
    },
    {
      "cell_type": "markdown",
      "metadata": {
        "id": "D0QH0nzjlbEE"
      },
      "source": [
        "Now that your image dataset is uploaded, we need to convert it to the `.tfrecords` format.\n",
        "\n",
        "Depending on the resolution of your images and how many you have, this can take a while."
      ]
    },
    {
      "cell_type": "code",
      "metadata": {
        "id": "T-BZHhBe7AvO",
        "colab": {
          "base_uri": "https://localhost:8080/"
        },
        "outputId": "f04c0b5c-2e2f-4154-dc1e-c395ea4f7b5d"
      },
      "source": [
        "%cd /content/drive/MyDrive/colab-sg2-ada/stylegan2-ada\n",
        "#update this to the path to your image folder\n",
        "dataset_path = \"/content/drive/MyDrive/Dataset/robgon-abstract\"\n",
        "#give your dataset a name\n",
        "dataset_name = \"robgon-abstract\"\n",
        "\n",
        "#you don't need to edit anything here\n",
        "!python dataset_tool.py create_from_images ./datasets/{dataset_name} {dataset_path}"
      ],
      "execution_count": 21,
      "outputs": [
        {
          "output_type": "stream",
          "name": "stdout",
          "text": [
            "/content/drive/MyDrive/colab-sg2-ada/stylegan2-ada\n",
            "Loading images from \"/content/drive/MyDrive/Dataset/robgon-abstract\"\n",
            "Creating dataset \"./datasets/robgon-abstract\"\n",
            "dataset_tool.py:97: DeprecationWarning: tostring() is deprecated. Use tobytes() instead.\n",
            "  'data': tf.train.Feature(bytes_list=tf.train.BytesList(value=[quant.tostring()]))}))\n",
            "Added 850 images.\n"
          ]
        }
      ]
    },
    {
      "cell_type": "markdown",
      "metadata": {
        "id": "8DvTupHzP2s_"
      },
      "source": [
        "## Train a custom model\n",
        "\n",
        "We’re ready to start training! There are numerous arguments to training, what’s listed below are the most popular options. To see all the options, run the following cell."
      ]
    },
    {
      "cell_type": "code",
      "metadata": {
        "id": "Fxu7CA0Qb1Yd",
        "colab": {
          "base_uri": "https://localhost:8080/"
        },
        "outputId": "95bfa11b-4a0e-47fb-975c-dd0dbea90baf"
      },
      "source": [
        "# Use them only for metrics and help with the arguments\n",
        "# This is just some help arguments\n",
        "!python train.py --help"
      ],
      "execution_count": 22,
      "outputs": [
        {
          "output_type": "stream",
          "name": "stdout",
          "text": [
            "usage: train.py [-h] --outdir DIR [--gpus INT] [--snap INT] [--seed INT] [-n]\n",
            "                --data PATH [--res INT] [--mirror BOOL] [--mirrory BOOL]\n",
            "                [--use-raw BOOL] [--metrics LIST] [--metricdata PATH]\n",
            "                [--cfg {auto,11gb-gpu,11gb-gpu-complex,24gb-gpu,24gb-gpu-complex,48gb-gpu,48gb-2gpu,stylegan2,paper256,paper512,paper1024,cifar,cifarbaseline,aydao}]\n",
            "                [--lrate FLOAT] [--ttur BOOL] [--gamma FLOAT] [--nkimg INT]\n",
            "                [--kimg INT] [--topk FLOAT] [--aug {noaug,ada,fixed,adarv}]\n",
            "                [--p FLOAT] [--target TARGET] [--initstrength INITSTRENGTH]\n",
            "                [--augpipe {blit,geom,color,filter,noise,cutout,bg,bgc,bgcf,bgcfn,bgcfnc}]\n",
            "                [--cmethod {nocmethod,bcr,zcr,pagan,wgangp,auxrot,spectralnorm,shallowmap,adropout}]\n",
            "                [--dcap FLOAT] [--resume RESUME] [--freezed INT]\n",
            "\n",
            "Train a GAN using the techniques described in the paper\n",
            "\"Training Generative Adversarial Networks with Limited Data\".\n",
            "\n",
            "optional arguments:\n",
            "  -h, --help            show this help message and exit\n",
            "\n",
            "general options:\n",
            "  --outdir DIR          Where to save the results (required)\n",
            "  --gpus INT            Number of GPUs to use (default: 1 gpu)\n",
            "  --snap INT            Snapshot interval (default: 50 ticks)\n",
            "  --seed INT            Random seed (default: 1000)\n",
            "  -n, --dry-run         Print training options and exit\n",
            "\n",
            "training dataset:\n",
            "  --data PATH           Training dataset path (required)\n",
            "  --res INT             Dataset resolution (default: highest available)\n",
            "  --mirror BOOL         Augment dataset with x-flips (default: false)\n",
            "  --mirrory BOOL        Augment dataset with y-flips (default: false)\n",
            "  --use-raw BOOL        Use raw image dataset, i.e. created from\n",
            "                        create_from_images_raw (default: False)\n",
            "\n",
            "metrics:\n",
            "  --metrics LIST        Comma-separated list or \"none\" (default: fid50k_full)\n",
            "  --metricdata PATH     Dataset to evaluate metrics against (optional)\n",
            "\n",
            "base config:\n",
            "  --cfg {auto,11gb-gpu,11gb-gpu-complex,24gb-gpu,24gb-gpu-complex,48gb-gpu,48gb-2gpu,stylegan2,paper256,paper512,paper1024,cifar,cifarbaseline,aydao}\n",
            "                        Base config (default: auto)\n",
            "  --lrate FLOAT         Override learning rate\n",
            "  --ttur BOOL           Use Two Time-Scale Update Rule (double learning rate\n",
            "                        for discriminator) (default: false)\n",
            "  --gamma FLOAT         Override R1 gamma\n",
            "  --nkimg INT           Override starting count\n",
            "  --kimg INT            Override training duration\n",
            "  --topk FLOAT          utilize top-k training\n",
            "\n",
            "discriminator augmentation:\n",
            "  --aug {noaug,ada,fixed,adarv}\n",
            "                        Augmentation mode (default: ada)\n",
            "  --p FLOAT             Specify augmentation probability for --aug=fixed\n",
            "  --target TARGET       Override ADA target for --aug=ada and --aug=adarv\n",
            "  --initstrength INITSTRENGTH\n",
            "                        Override ADA strength at start\n",
            "  --augpipe {blit,geom,color,filter,noise,cutout,bg,bgc,bgcf,bgcfn,bgcfnc}\n",
            "                        Augmentation pipeline (default: bgc)\n",
            "\n",
            "comparison methods:\n",
            "  --cmethod {nocmethod,bcr,zcr,pagan,wgangp,auxrot,spectralnorm,shallowmap,adropout}\n",
            "                        Comparison method (default: nocmethod)\n",
            "  --dcap FLOAT          Multiplier for discriminator capacity\n",
            "\n",
            "transfer learning:\n",
            "  --resume RESUME       Resume from network pickle (default: noresume)\n",
            "  --freezed INT         Freeze-D (default: 0 discriminator layers)\n",
            "\n",
            "examples:\n",
            "\n",
            "  # Train custom dataset using 1 GPU.\n",
            "  python train.py --outdir=~/training-runs --gpus=1 --data=~/datasets/custom\n",
            "\n",
            "  # Train class-conditional CIFAR-10 using 2 GPUs.\n",
            "  python train.py --outdir=~/training-runs --gpus=2 --data=~/datasets/cifar10c \\\n",
            "      --cfg=cifar\n",
            "\n",
            "  # Transfer learn MetFaces from FFHQ using 4 GPUs.\n",
            "  python train.py --outdir=~/training-runs --gpus=4 --data=~/datasets/metfaces \\\n",
            "      --cfg=paper1024 --mirror=1 --resume=ffhq1024 --snap=10\n",
            "\n",
            "  # Reproduce original StyleGAN2 config F.\n",
            "  python train.py --outdir=~/training-runs --gpus=8 --data=~/datasets/ffhq \\\n",
            "      --cfg=stylegan2 --res=1024 --mirror=1 --aug=noaug\n",
            "\n",
            "available base configs (--cfg):\n",
            "  auto           Automatically select reasonable defaults based on resolution\n",
            "                 and GPU count. Good starting point for new datasets.\n",
            "  stylegan2      Reproduce results for StyleGAN2 config F at 1024x1024.\n",
            "  paper256       Reproduce results for FFHQ and LSUN Cat at 256x256.\n",
            "  paper512       Reproduce results for BreCaHAD and AFHQ at 512x512.\n",
            "  paper1024      Reproduce results for MetFaces at 1024x1024.\n",
            "  cifar          Reproduce results for CIFAR-10 (tuned configuration).\n",
            "  cifarbaseline  Reproduce results for CIFAR-10 (baseline configuration).\n",
            "\n",
            "transfer learning source networks (--resume):\n",
            "  ffhq256        FFHQ trained at 256x256 resolution.\n",
            "  ffhq512        FFHQ trained at 512x512 resolution.\n",
            "  ffhq1024       FFHQ trained at 1024x1024 resolution.\n",
            "  celebahq256    CelebA-HQ trained at 256x256 resolution.\n",
            "  lsundog256     LSUN Dog trained at 256x256 resolution.\n",
            "  afhqcat512     AFHQ Cat trained at 512x512 resolution.\n",
            "  afhqdog512     AFHQ Dog trained at 512x512 resolution.\n",
            "  afhqwild512    AFHQ Wild trained at 512x512 resolution.\n",
            "  brecahad512    BreCaHAD trained at 512x512 resolution.\n",
            "  cifar10        CIFAR10 trained at 32x32 resolution.\n",
            "  metfaces512    MetFaces trained at 512x512 resolution.\n",
            "  <path or URL>  Custom network pickle.\n"
          ]
        }
      ]
    },
    {
      "cell_type": "code",
      "metadata": {
        "id": "jOftFoyiDU3s"
      },
      "source": [
        "#this name must EXACTLY match the dataset name you used when creating the .tfrecords file\n",
        "dataset_name = \"robgon-abstract\"\n",
        "#how often should the model generate samples and a .pkl file\n",
        "snapshot_count = 4\n",
        "#should the images be mirrored left to right?\n",
        "mirrored = True\n",
        "#should the images be mirrored top to bottom?\n",
        "mirroredY = True\n",
        "#metrics? \n",
        "metric_list = None\n",
        "#augments\n",
        "augs = \"bg\"\n",
        "\n",
        "#\n",
        "# this is the most important cell to update\n",
        "#\n",
        "# running it for the first time? set it to ffhq(+resolution)\n",
        "# resuming? get the path to your latest .pkl file and use that\n",
        "resume_from = \"/content/drive/My\\ Drive/colab-sg2-ada2/stylegan2-ada/results/00008-dante1024-mirror-mirrory-11gb-gpu-bg-resumecustom/network-snapshot-000160.pkl\"\n",
        "\n",
        "#don't edit this unless you know what you're doing :)\n",
        "!python train.py --outdir ./results --snap={snapshot_count} --cfg=11gb-gpu --data=./datasets/{dataset_name} --augpipe={augs} --mirror={mirrored} --mirrory={mirroredY} --metrics={metric_list} --resume={resume_from} --augpipe=\"bg\""
      ],
      "execution_count": null,
      "outputs": []
    },
    {
      "cell_type": "markdown",
      "metadata": {
        "id": "lohotw1FqC54"
      },
      "source": [
        "### While it’s training...\n",
        "**Once the above cell is running you should be training!**\n",
        "\n",
        "Don’t close this tab! Colab needs to be open and running in order to continue training. Every ~15min or so a new line should get added to your output, indicated its still training. Depending on you `snapshot_count` setting you should see the results folder in your Google drive folder fill with both samples (`fakesXXXXXx.jpg`) and model weights (`network-snapshot-XXXXXX.pkl`). The samples are worth looking at while it trains but don’t get too worried about each individual sample.\n",
        "\n",
        "If you chose a metric, you will also see scores for each snapshot. Don’t obsess over these! they are a guide, it can go up or down slightly for each snapshot. What you want to see is a gradual lowering of the score over time.\n",
        "\n",
        "Once Colab shuts off, you can Reconnect the notebook and re-run every cell from top to bottom. Make sure you update the `resume_from` path to continue training from the latest model."
      ]
    },
    {
      "cell_type": "markdown",
      "metadata": {
        "id": "kUdqO1Djaryp"
      },
      "source": [
        "## Training model from scratch"
      ]
    },
    {
      "cell_type": "code",
      "metadata": {
        "id": "MtQTrX3Bapca",
        "colab": {
          "base_uri": "https://localhost:8080/"
        },
        "outputId": "48006dad-4797-40fb-8833-d15bb459a4c7"
      },
      "source": [
        "#this name must EXACTLY match the dataset name you used when creating the .tfrecords file\n",
        "dataset_name = \"robgon-abstract\"\n",
        "#how often should the model generate samples and a .pkl file\n",
        "snapshot_count = 4\n",
        "#should the images be mirrored left to right?\n",
        "mirrored = True\n",
        "#should the images be mirrored top to bottom?\n",
        "mirroredY = True\n",
        "#metrics? \n",
        "metric_list = None\n",
        "#augments\n",
        "augs = \"bg\"\n",
        "\n",
        "#\n",
        "# this is the most important cell to update\n",
        "#\n",
        "# running it for the first time? set it to ffhq(+resolution)\n",
        "\n",
        "#don't edit this unless you know what you're doing :)\n",
        "!python train.py --outdir ./results --snap={snapshot_count} --cfg=auto --data=./datasets/{dataset_name} --augpipe={augs} --mirror={mirrored} --mirrory={mirroredY} --metrics={metric_list} --augpipe=\"bg\""
      ],
      "execution_count": null,
      "outputs": [
        {
          "output_type": "stream",
          "name": "stdout",
          "text": [
            "tcmalloc: large alloc 4294967296 bytes == 0x559d90e62000 @  0x7f1461ba5001 0x7f145eda854f 0x7f145edf8b58 0x7f145edfcb17 0x7f145ee9b203 0x559d89d5d544 0x559d89d5d240 0x559d89dd1627 0x559d89dcbced 0x559d89d5f48c 0x559d89da0159 0x559d89d9d0a4 0x559d89d5dd49 0x559d89dd194f 0x559d89dcb9ee 0x559d89c9de2b 0x559d89dcdfe4 0x559d89dcb9ee 0x559d89c9de2b 0x559d89dcdfe4 0x559d89dcbced 0x559d89c9de2b 0x559d89dcdfe4 0x559d89d5eafa 0x559d89dcc915 0x559d89dcb9ee 0x559d89dcb6f3 0x559d89e954c2 0x559d89e9583d 0x559d89e956e6 0x559d89e6d163\n",
            "tcmalloc: large alloc 4294967296 bytes == 0x559e90e62000 @  0x7f1461ba31e7 0x7f145eda846e 0x7f145edf8c7b 0x7f145edf935f 0x7f145ee9b103 0x559d89d5d544 0x559d89d5d240 0x559d89dd1627 0x559d89dcb9ee 0x559d89d5ebda 0x559d89dcd737 0x559d89dcb9ee 0x559d89d5ebda 0x559d89dcd737 0x559d89dcb9ee 0x559d89d5ebda 0x559d89dcd737 0x559d89d5eafa 0x559d89dcc915 0x559d89dcb9ee 0x559d89d5ebda 0x559d89dd0d00 0x559d89dcb9ee 0x559d89d5ebda 0x559d89dcd737 0x559d89dcbced 0x559d89d5f48c 0x559d89da0159 0x559d89d9d0a4 0x559d89d5dd49 0x559d89dd194f\n",
            "tcmalloc: large alloc 4294967296 bytes == 0x559f91fa6000 @  0x7f1461ba31e7 0x7f145eda846e 0x7f145edf8c7b 0x7f145edf935f 0x7f141b7aa235 0x7f141b12d792 0x7f141b12dd42 0x7f141b0e6aee 0x559d89d5d437 0x559d89d5d240 0x559d89dd10f3 0x559d89d5eafa 0x559d89dccc0d 0x559d89dcbced 0x559d89c9deb0 0x559d89dcdfe4 0x559d89dcb9ee 0x559d89d5ebda 0x559d89dccc0d 0x559d89dcbced 0x559d89d5ebda 0x559d89dccc0d 0x559d89d5eafa 0x559d89dccc0d 0x559d89dcb9ee 0x559d89d5f271 0x559d89d5f698 0x559d89dcdfe4 0x559d89dcb9ee 0x559d89d5ebda 0x559d89dcc915\n",
            "\n",
            "Training options:\n",
            "{\n",
            "  \"G_args\": {\n",
            "    \"func_name\": \"training.networks.G_main\",\n",
            "    \"fmap_base\": 16384,\n",
            "    \"fmap_max\": 512,\n",
            "    \"mapping_layers\": 2,\n",
            "    \"num_fp16_res\": 4,\n",
            "    \"conv_clamp\": 256\n",
            "  },\n",
            "  \"D_args\": {\n",
            "    \"func_name\": \"training.networks.D_main\",\n",
            "    \"mbstd_group_size\": 4,\n",
            "    \"fmap_base\": 16384,\n",
            "    \"fmap_max\": 512,\n",
            "    \"num_fp16_res\": 4,\n",
            "    \"conv_clamp\": 256\n",
            "  },\n",
            "  \"G_opt_args\": {\n",
            "    \"beta1\": 0.0,\n",
            "    \"beta2\": 0.99,\n",
            "    \"learning_rate\": 0.002\n",
            "  },\n",
            "  \"D_opt_args\": {\n",
            "    \"beta1\": 0.0,\n",
            "    \"beta2\": 0.99,\n",
            "    \"learning_rate\": 0.002\n",
            "  },\n",
            "  \"loss_args\": {\n",
            "    \"func_name\": \"training.loss.stylegan2\",\n",
            "    \"r1_gamma\": 52.4288\n",
            "  },\n",
            "  \"augment_args\": {\n",
            "    \"class_name\": \"training.augment.AdaptiveAugment\",\n",
            "    \"tune_heuristic\": \"rt\",\n",
            "    \"tune_target\": 0.6,\n",
            "    \"apply_func\": \"training.augment.augment_pipeline\",\n",
            "    \"apply_args\": {\n",
            "      \"xflip\": 1,\n",
            "      \"rotate90\": 1,\n",
            "      \"xint\": 1,\n",
            "      \"scale\": 1,\n",
            "      \"rotate\": 1,\n",
            "      \"aniso\": 1,\n",
            "      \"xfrac\": 1\n",
            "    }\n",
            "  },\n",
            "  \"num_gpus\": 1,\n",
            "  \"image_snapshot_ticks\": 4,\n",
            "  \"network_snapshot_ticks\": 4,\n",
            "  \"train_dataset_args\": {\n",
            "    \"path\": \"./datasets/robgon-abstract\",\n",
            "    \"max_label_size\": 0,\n",
            "    \"use_raw\": false,\n",
            "    \"resolution\": 1024,\n",
            "    \"mirror_augment\": true,\n",
            "    \"mirror_augment_v\": true\n",
            "  },\n",
            "  \"metric_arg_list\": [],\n",
            "  \"metric_dataset_args\": {\n",
            "    \"path\": \"./datasets/robgon-abstract\",\n",
            "    \"max_label_size\": 0,\n",
            "    \"use_raw\": false,\n",
            "    \"resolution\": 1024,\n",
            "    \"mirror_augment\": true,\n",
            "    \"mirror_augment_v\": true\n",
            "  },\n",
            "  \"total_kimg\": 25000,\n",
            "  \"minibatch_size\": 4,\n",
            "  \"minibatch_gpu\": 4,\n",
            "  \"G_smoothing_kimg\": 1.25,\n",
            "  \"G_smoothing_rampup\": 0.05,\n",
            "  \"run_dir\": \"./results/00000-robgon-abstract-mirror-mirrory-auto1-bg\"\n",
            "}\n",
            "\n",
            "Output directory:  ./results/00000-robgon-abstract-mirror-mirrory-auto1-bg\n",
            "Training data:     ./datasets/robgon-abstract\n",
            "Training length:   25000 kimg\n",
            "Resolution:        1024\n",
            "Number of GPUs:    1\n",
            "\n",
            "Creating output directory...\n",
            "Loading training set...\n",
            "tcmalloc: large alloc 4294967296 bytes == 0x559d90b60000 @  0x7f1461ba5001 0x7f145eda854f 0x7f145edf8b58 0x7f145edfcb17 0x7f145ee9b203 0x559d89d5d544 0x559d89d5d240 0x559d89dd1627 0x559d89dcbced 0x559d89d5f48c 0x559d89da0159 0x559d89d9d0a4 0x559d89d5dd49 0x559d89dd194f 0x559d89dcb9ee 0x559d89c9de2b 0x559d89dcdfe4 0x559d89dcb9ee 0x559d89c9de2b 0x559d89dcdfe4 0x559d89dcbced 0x559d89c9de2b 0x559d89dcdfe4 0x559d89d5eafa 0x559d89dcc915 0x559d89dcb9ee 0x559d89dcb6f3 0x559d89e954c2 0x559d89e9583d 0x559d89e956e6 0x559d89e6d163\n",
            "tcmalloc: large alloc 4294967296 bytes == 0x55a091fa6000 @  0x7f1461ba31e7 0x7f145eda846e 0x7f145edf8c7b 0x7f145edf935f 0x7f145ee9b103 0x559d89d5d544 0x559d89d5d240 0x559d89dd1627 0x559d89dcb9ee 0x559d89d5ebda 0x559d89dcd737 0x559d89dcb9ee 0x559d89d5ebda 0x559d89dcd737 0x559d89dcb9ee 0x559d89d5ebda 0x559d89dcd737 0x559d89d5eafa 0x559d89dcc915 0x559d89dcb9ee 0x559d89d5ebda 0x559d89dd0d00 0x559d89dcb9ee 0x559d89d5ebda 0x559d89dcd737 0x559d89dcbced 0x559d89d5f48c 0x559d89da0159 0x559d89d9d0a4 0x559d89d5dd49 0x559d89dd194f\n",
            "tcmalloc: large alloc 4294967296 bytes == 0x55a091fa6000 @  0x7f1461ba31e7 0x7f145eda846e 0x7f145edf8c7b 0x7f145edf935f 0x7f141b7aa235 0x7f141b12d792 0x7f141b12dd42 0x7f141b0e6aee 0x559d89d5d437 0x559d89d5d240 0x559d89dd10f3 0x559d89d5eafa 0x559d89dccc0d 0x559d89dcbced 0x559d89c9deb0 0x559d89dcdfe4 0x559d89dcb9ee 0x559d89d5ebda 0x559d89dccc0d 0x559d89dcbced 0x559d89d5ebda 0x559d89dccc0d 0x559d89d5eafa 0x559d89dccc0d 0x559d89dcb9ee 0x559d89d5f271 0x559d89d5f698 0x559d89dcdfe4 0x559d89dcb9ee 0x559d89d5ebda 0x559d89dcc915\n",
            "Image shape: [3, 1024, 1024]\n",
            "Label shape: [0]\n",
            "\n",
            "Constructing networks...\n",
            "Setting up TensorFlow plugin \"fused_bias_act.cu\": Compiling... Loading... Done.\n",
            "Setting up TensorFlow plugin \"upfirdn_2d.cu\": Compiling... Loading... Done.\n",
            "\n",
            "G                               Params    OutputShape          WeightShape     \n",
            "---                             ---       ---                  ---             \n",
            "latents_in                      -         (?, 512)             -               \n",
            "labels_in                       -         (?, 0)               -               \n",
            "epochs                          1         ()                   ()              \n",
            "epochs_1                        1         ()                   ()              \n",
            "G_mapping/Normalize             -         (?, 512)             -               \n",
            "G_mapping/Dense0                262656    (?, 512)             (512, 512)      \n",
            "G_mapping/Dense1                262656    (?, 512)             (512, 512)      \n",
            "G_mapping/Broadcast             -         (?, 18, 512)         -               \n",
            "dlatent_avg                     -         (512,)               -               \n",
            "Truncation/Lerp                 -         (?, 18, 512)         -               \n",
            "G_synthesis/4x4/Const           8192      (?, 512, 4, 4)       (1, 512, 4, 4)  \n",
            "G_synthesis/4x4/Conv            2622465   (?, 512, 4, 4)       (3, 3, 512, 512)\n",
            "G_synthesis/4x4/ToRGB           264195    (?, 3, 4, 4)         (1, 1, 512, 3)  \n",
            "G_synthesis/8x8/Conv0_up        2622465   (?, 512, 8, 8)       (3, 3, 512, 512)\n",
            "G_synthesis/8x8/Conv1           2622465   (?, 512, 8, 8)       (3, 3, 512, 512)\n",
            "G_synthesis/8x8/Upsample        -         (?, 3, 8, 8)         -               \n",
            "G_synthesis/8x8/ToRGB           264195    (?, 3, 8, 8)         (1, 1, 512, 3)  \n",
            "G_synthesis/16x16/Conv0_up      2622465   (?, 512, 16, 16)     (3, 3, 512, 512)\n",
            "G_synthesis/16x16/Conv1         2622465   (?, 512, 16, 16)     (3, 3, 512, 512)\n",
            "G_synthesis/16x16/Upsample      -         (?, 3, 16, 16)       -               \n",
            "G_synthesis/16x16/ToRGB         264195    (?, 3, 16, 16)       (1, 1, 512, 3)  \n",
            "G_synthesis/32x32/Conv0_up      2622465   (?, 512, 32, 32)     (3, 3, 512, 512)\n",
            "G_synthesis/32x32/Conv1         2622465   (?, 512, 32, 32)     (3, 3, 512, 512)\n",
            "G_synthesis/32x32/Upsample      -         (?, 3, 32, 32)       -               \n",
            "G_synthesis/32x32/ToRGB         264195    (?, 3, 32, 32)       (1, 1, 512, 3)  \n",
            "G_synthesis/64x64/Conv0_up      2622465   (?, 512, 64, 64)     (3, 3, 512, 512)\n",
            "G_synthesis/64x64/Conv1         2622465   (?, 512, 64, 64)     (3, 3, 512, 512)\n",
            "G_synthesis/64x64/Upsample      -         (?, 3, 64, 64)       -               \n",
            "G_synthesis/64x64/ToRGB         264195    (?, 3, 64, 64)       (1, 1, 512, 3)  \n",
            "G_synthesis/128x128/Conv0_up    1442561   (?, 256, 128, 128)   (3, 3, 512, 256)\n",
            "G_synthesis/128x128/Conv1       721409    (?, 256, 128, 128)   (3, 3, 256, 256)\n",
            "G_synthesis/128x128/Upsample    -         (?, 3, 128, 128)     -               \n",
            "G_synthesis/128x128/ToRGB       132099    (?, 3, 128, 128)     (1, 1, 256, 3)  \n",
            "G_synthesis/256x256/Conv0_up    426369    (?, 128, 256, 256)   (3, 3, 256, 128)\n",
            "G_synthesis/256x256/Conv1       213249    (?, 128, 256, 256)   (3, 3, 128, 128)\n",
            "G_synthesis/256x256/Upsample    -         (?, 3, 256, 256)     -               \n",
            "G_synthesis/256x256/ToRGB       66051     (?, 3, 256, 256)     (1, 1, 128, 3)  \n",
            "G_synthesis/512x512/Conv0_up    139457    (?, 64, 512, 512)    (3, 3, 128, 64) \n",
            "G_synthesis/512x512/Conv1       69761     (?, 64, 512, 512)    (3, 3, 64, 64)  \n",
            "G_synthesis/512x512/Upsample    -         (?, 3, 512, 512)     -               \n",
            "G_synthesis/512x512/ToRGB       33027     (?, 3, 512, 512)     (1, 1, 64, 3)   \n",
            "G_synthesis/1024x1024/Conv0_up  51297     (?, 32, 1024, 1024)  (3, 3, 64, 32)  \n",
            "G_synthesis/1024x1024/Conv1     25665     (?, 32, 1024, 1024)  (3, 3, 32, 32)  \n",
            "G_synthesis/1024x1024/Upsample  -         (?, 3, 1024, 1024)   -               \n",
            "G_synthesis/1024x1024/ToRGB     16515     (?, 3, 1024, 1024)   (1, 1, 32, 3)   \n",
            "---                             ---       ---                  ---             \n",
            "Total                           28794126                                       \n",
            "\n",
            "\n",
            "D                     Params    OutputShape          WeightShape     \n",
            "---                   ---       ---                  ---             \n",
            "images_in             -         (?, 3, 1024, 1024)   -               \n",
            "labels_in             -         (?, 0)               -               \n",
            "1024x1024/FromRGB     128       (?, 32, 1024, 1024)  (1, 1, 3, 32)   \n",
            "1024x1024/Conv0       9248      (?, 32, 1024, 1024)  (3, 3, 32, 32)  \n",
            "1024x1024/Conv1_down  18496     (?, 64, 512, 512)    (3, 3, 32, 64)  \n",
            "1024x1024/Skip        2048      (?, 64, 512, 512)    (1, 1, 32, 64)  \n",
            "512x512/Conv0         36928     (?, 64, 512, 512)    (3, 3, 64, 64)  \n",
            "512x512/Conv1_down    73856     (?, 128, 256, 256)   (3, 3, 64, 128) \n",
            "512x512/Skip          8192      (?, 128, 256, 256)   (1, 1, 64, 128) \n",
            "256x256/Conv0         147584    (?, 128, 256, 256)   (3, 3, 128, 128)\n",
            "256x256/Conv1_down    295168    (?, 256, 128, 128)   (3, 3, 128, 256)\n",
            "256x256/Skip          32768     (?, 256, 128, 128)   (1, 1, 128, 256)\n",
            "128x128/Conv0         590080    (?, 256, 128, 128)   (3, 3, 256, 256)\n",
            "128x128/Conv1_down    1180160   (?, 512, 64, 64)     (3, 3, 256, 512)\n",
            "128x128/Skip          131072    (?, 512, 64, 64)     (1, 1, 256, 512)\n",
            "64x64/Conv0           2359808   (?, 512, 64, 64)     (3, 3, 512, 512)\n",
            "64x64/Conv1_down      2359808   (?, 512, 32, 32)     (3, 3, 512, 512)\n",
            "64x64/Skip            262144    (?, 512, 32, 32)     (1, 1, 512, 512)\n",
            "32x32/Conv0           2359808   (?, 512, 32, 32)     (3, 3, 512, 512)\n",
            "32x32/Conv1_down      2359808   (?, 512, 16, 16)     (3, 3, 512, 512)\n",
            "32x32/Skip            262144    (?, 512, 16, 16)     (1, 1, 512, 512)\n",
            "16x16/Conv0           2359808   (?, 512, 16, 16)     (3, 3, 512, 512)\n",
            "16x16/Conv1_down      2359808   (?, 512, 8, 8)       (3, 3, 512, 512)\n",
            "16x16/Skip            262144    (?, 512, 8, 8)       (1, 1, 512, 512)\n",
            "8x8/Conv0             2359808   (?, 512, 8, 8)       (3, 3, 512, 512)\n",
            "8x8/Conv1_down        2359808   (?, 512, 4, 4)       (3, 3, 512, 512)\n",
            "8x8/Skip              262144    (?, 512, 4, 4)       (1, 1, 512, 512)\n",
            "4x4/MinibatchStddev   -         (?, 513, 4, 4)       -               \n",
            "4x4/Conv              2364416   (?, 512, 4, 4)       (3, 3, 513, 512)\n",
            "4x4/Dense0            4194816   (?, 512)             (8192, 512)     \n",
            "Output                513       (?, 1)               (512, 1)        \n",
            "---                   ---       ---                  ---             \n",
            "Total                 29012513                                       \n",
            "\n",
            "Exporting sample images...\n",
            "2021-10-23 09:52:13.838680: W tensorflow/core/framework/cpu_allocator_impl.cc:81] Allocation of 88080384 exceeds 10% of system memory.\n",
            "Replicating networks across 1 GPUs...\n",
            "Initializing augmentations...\n",
            "Setting up optimizers...\n",
            "Constructing training graph...\n",
            "Finalizing training ops...\n",
            "2021-10-23 09:53:12.741238: W tensorflow/core/framework/cpu_allocator_impl.cc:81] Allocation of 16777216 exceeds 10% of system memory.\n",
            "2021-10-23 09:53:12.753564: W tensorflow/core/framework/cpu_allocator_impl.cc:81] Allocation of 16777216 exceeds 10% of system memory.\n",
            "2021-10-23 09:53:12.807055: W tensorflow/core/framework/cpu_allocator_impl.cc:81] Allocation of 16777216 exceeds 10% of system memory.\n",
            "2021-10-23 09:53:12.814472: W tensorflow/core/framework/cpu_allocator_impl.cc:81] Allocation of 16777216 exceeds 10% of system memory.\n",
            "Initializing metrics...\n",
            "Training for 25000 kimg...\n",
            "\n",
            "2021-10-23 09:55:01.000287: W tensorflow/core/common_runtime/bfc_allocator.cc:239] Allocator (GPU_0_bfc) ran out of memory trying to allocate 2.25GiB with freed_by_count=0. The caller indicates that this is not a failure, but may mean that there could be performance gains if more memory were available.\n",
            "2021-10-23 09:55:08.392291: W tensorflow/core/common_runtime/bfc_allocator.cc:239] Allocator (GPU_0_bfc) ran out of memory trying to allocate 2.25GiB with freed_by_count=0. The caller indicates that this is not a failure, but may mean that there could be performance gains if more memory were available.\n",
            "2021-10-23 09:55:15.952189: W tensorflow/core/common_runtime/bfc_allocator.cc:239] Allocator (GPU_0_bfc) ran out of memory trying to allocate 2.25GiB with freed_by_count=0. The caller indicates that this is not a failure, but may mean that there could be performance gains if more memory were available.\n",
            "tick 0     kimg 0.0      time 4m 59s       sec/tick 119.3   sec/kimg 7456.98 maintenance 179.9  gpumem 10.3  augment 0.000\n",
            "2021-10-23 09:55:48.350694: W tensorflow/core/common_runtime/bfc_allocator.cc:239] Allocator (GPU_0_bfc) ran out of memory trying to allocate 2.25GiB with freed_by_count=0. The caller indicates that this is not a failure, but may mean that there could be performance gains if more memory were available.\n",
            "2021-10-23 09:55:57.713979: W tensorflow/core/common_runtime/bfc_allocator.cc:239] Allocator (GPU_0_bfc) ran out of memory trying to allocate 2.25GiB with freed_by_count=0. The caller indicates that this is not a failure, but may mean that there could be performance gains if more memory were available.\n",
            "2021-10-23 09:56:05.163654: W tensorflow/core/common_runtime/bfc_allocator.cc:239] Allocator (GPU_0_bfc) ran out of memory trying to allocate 2.25GiB with freed_by_count=0. The caller indicates that this is not a failure, but may mean that there could be performance gains if more memory were available.\n",
            "2021-10-23 09:56:12.545890: W tensorflow/core/common_runtime/bfc_allocator.cc:239] Allocator (GPU_0_bfc) ran out of memory trying to allocate 2.25GiB with freed_by_count=0. The caller indicates that this is not a failure, but may mean that there could be performance gains if more memory were available.\n",
            "2021-10-23 09:56:19.905419: W tensorflow/core/common_runtime/bfc_allocator.cc:239] Allocator (GPU_0_bfc) ran out of memory trying to allocate 2.25GiB with freed_by_count=0. The caller indicates that this is not a failure, but may mean that there could be performance gains if more memory were available.\n",
            "2021-10-23 09:56:29.302861: W tensorflow/core/common_runtime/bfc_allocator.cc:239] Allocator (GPU_0_bfc) ran out of memory trying to allocate 2.25GiB with freed_by_count=0. The caller indicates that this is not a failure, but may mean that there could be performance gains if more memory were available.\n",
            "2021-10-23 09:56:36.685429: W tensorflow/core/common_runtime/bfc_allocator.cc:239] Allocator (GPU_0_bfc) ran out of memory trying to allocate 2.25GiB with freed_by_count=0. The caller indicates that this is not a failure, but may mean that there could be performance gains if more memory were available.\n"
          ]
        }
      ]
    },
    {
      "cell_type": "code",
      "metadata": {
        "id": "J7bhpkDljtqL"
      },
      "source": [
        ""
      ],
      "execution_count": null,
      "outputs": []
    }
  ]
}