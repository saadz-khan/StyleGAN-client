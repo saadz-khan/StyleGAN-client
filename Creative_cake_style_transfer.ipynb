{
  "nbformat": 4,
  "nbformat_minor": 0,
  "metadata": {
    "colab": {
      "name": "Neural Style Transfer Final.ipynb",
      "provenance": [],
      "collapsed_sections": [],
      "authorship_tag": "ABX9TyPuyptv6I4/z9tXs0z4Y+59",
      "include_colab_link": true
    },
    "kernelspec": {
      "name": "python3",
      "display_name": "Python 3"
    },
    "language_info": {
      "name": "python"
    }
  },
  "cells": [
    {
      "cell_type": "markdown",
      "metadata": {
        "id": "view-in-github",
        "colab_type": "text"
      },
      "source": [
        "<a href=\"https://colab.research.google.com/github/saadz-khan/StyleGAN-client/blob/master/Creative_cake_style_transfer.ipynb\" target=\"_parent\"><img src=\"https://colab.research.google.com/assets/colab-badge.svg\" alt=\"Open In Colab\"/></a>"
      ]
    },
    {
      "cell_type": "markdown",
      "metadata": {
        "id": "3T3lp4WFax9O"
      },
      "source": [
        "# Neural Style Transfer with tensorflow keras"
      ]
    },
    {
      "cell_type": "markdown",
      "metadata": {
        "id": "EuZHo6qyavsL"
      },
      "source": [
        "## Overview\n",
        "\n",
        "But, what is neural style transfer?\n",
        "\n",
        "Neural style transfer is an optimization technique used to take three images, a **content** image, a **style reference** image (such as an artwork by a famous painter), and the **input** image you want to style -- and blend them together such that the input image is transformed to look like the content image, but “painted” in the style of the style image.\n",
        "\n",
        "For example, let’s take an image of turtle and Katsushika Hokusai's *The Great Wave off Kanagawa*:\n",
        "\n",
        "<img src=\"https://github.com/tensorflow/models/blob/master/research/nst_blogpost/Green_Sea_Turtle_grazing_seagrass.jpg?raw=1\" alt=\"Drawing\" style=\"width: 200px;\"/>\n",
        "<img src=\"https://github.com/tensorflow/models/blob/master/research/nst_blogpost/The_Great_Wave_off_Kanagawa.jpg?raw=1\" alt=\"Drawing\" style=\"width: 200px;\"/>\n",
        "\n",
        "<img src=\"https://github.com/tensorflow/models/blob/master/research/nst_blogpost/wave_turtle.png?raw=1\" alt=\"Drawing\" style=\"width: 500px;\"/>\n",
        "\n",
        "Is this magic or just deep learning? Fortunately, this doesn’t involve any witchcraft: style transfer is a fun and interesting technique that showcases the capabilities and internal representations of neural networks.  \n",
        "\n",
        "### We will follow the general steps to perform style transfer:\n",
        "\n",
        "1. Visualize data\n",
        "2. Basic Preprocessing/preparing our data\n",
        "3. Set up loss functions \n",
        "4. Create model\n",
        "5. Optimize for loss function\n",
        "\n"
      ]
    },
    {
      "cell_type": "markdown",
      "metadata": {
        "id": "ESE_Yf72a3vq"
      },
      "source": [
        "## Setup"
      ]
    },
    {
      "cell_type": "markdown",
      "metadata": {
        "id": "z3SLQdWEa3sZ"
      },
      "source": [
        "### Downloading Sample Images"
      ]
    },
    {
      "cell_type": "code",
      "metadata": {
        "id": "dcCAOIzCa7Vm"
      },
      "source": [
        "import os\n",
        "!mkdir /content/images\n",
        "img_dir = '/content/images'\n",
        "if not os.path.exists(img_dir):\n",
        "    os.makedirs(img_dir)\n",
        "!wget --quiet -P {img_dir} https://upload.wikimedia.org/wikipedia/commons/d/d7/Green_Sea_Turtle_grazing_seagrass.jpg\n",
        "!wget --quiet -P {img_dir} https://upload.wikimedia.org/wikipedia/commons/0/0a/The_Great_Wave_off_Kanagawa.jpg\n",
        "!wget --quiet -P {img_dir} https://upload.wikimedia.org/wikipedia/commons/b/b4/Vassily_Kandinsky%2C_1913_-_Composition_7.jpg\n",
        "!wget --quiet -P {img_dir} https://upload.wikimedia.org/wikipedia/commons/0/00/Tuebingen_Neckarfront.jpg\n",
        "!wget --quiet -P {img_dir} https://upload.wikimedia.org/wikipedia/commons/6/68/Pillars_of_creation_2014_HST_WFC3-UVIS_full-res_denoised.jpg\n",
        "!wget --quiet -P {img_dir} https://upload.wikimedia.org/wikipedia/commons/thumb/e/ea/Van_Gogh_-_Starry_Night_-_Google_Art_Project.jpg/1024px-Van_Gogh_-_Starry_Night_-_Google_Art_Project.jpg"
      ],
      "execution_count": null,
      "outputs": []
    },
    {
      "cell_type": "code",
      "metadata": {
        "id": "aMO6t7L3af9H"
      },
      "source": [
        "!git clone https://github.com/anishathalye/neural-style"
      ],
      "execution_count": null,
      "outputs": []
    },
    {
      "cell_type": "code",
      "metadata": {
        "id": "ejSpmGh2akLS"
      },
      "source": [
        "# Set up some global values here\n",
        "content_path = '/content/images/Green_Sea_Turtle_grazing_seagrass.jpg' #@param[]{allow-input: true}\n",
        "style_path = '/content/images/The_Great_Wave_off_Kanagawa.jpg' #@param[]{allow-input: true}\n",
        "output_name = 'output' #@param[]{allow-input: true}\n",
        "\n"
      ],
      "execution_count": null,
      "outputs": []
    },
    {
      "cell_type": "code",
      "metadata": {
        "id": "L9Wy52PGc2w4"
      },
      "source": [
        "CONTENT_WEIGHT = 5e0 #@param {type: \"number\"}\n",
        "CONTENT_WEIGHT_BLEND = 1 #@param {type: \"number\"}\n",
        "STYLE_WEIGHT = 5e2 #@param {type: \"number\"}\n",
        "TV_WEIGHT = 1e2 #@param {type: \"number\"}\n",
        "STYLE_LAYER_WEIGHT_EXP = 1 #@param {type: \"number\"}\n",
        "\n",
        "LEARNING_RATE = 1e1 #@param {type: \"number\"}\n",
        "\n",
        "BETA1 = 0.9 #@param {type: \"number\"}\n",
        "BETA2 = 0.999 #@param {type: \"number\"}\n",
        "\n",
        "EPSILON = 1e-08 #@param {type: \"number\"}\n",
        "\n",
        "STYLE_SCALE = 1.0 #@param {type: \"number\"}\n",
        "\n",
        "ITERATIONS = 1000 #@param {type: \"number\"}"
      ],
      "execution_count": null,
      "outputs": []
    },
    {
      "cell_type": "markdown",
      "metadata": {
        "id": "E4EGnhqdbNgA"
      },
      "source": [
        "### Visualize the Inputs"
      ]
    },
    {
      "cell_type": "code",
      "metadata": {
        "id": "mKSxwd9aakID"
      },
      "source": [
        "def load_img(path_to_img):\n",
        "  max_dim = 512\n",
        "  img = Image.open(path_to_img)\n",
        "  long = max(img.size)\n",
        "  scale = max_dim/long\n",
        "  img = img.resize((round(img.size[0]*scale), round(img.size[1]*scale)), Image.ANTIALIAS)\n",
        "  \n",
        "  img = kp_image.img_to_array(img)\n",
        "  \n",
        "  # We need to broadcast the image array such that it has a batch dimension \n",
        "  img = np.expand_dims(img, axis=0)\n",
        "  return img\n",
        "\n",
        "\n",
        "def imshow(img, title=None):\n",
        "  # Remove the batch dimension\n",
        "  out = np.squeeze(img, axis=0)\n",
        "  # Normalize for display \n",
        "  out = out.astype('uint8')\n",
        "  plt.imshow(out)\n",
        "  if title is not None:\n",
        "    plt.title(title)\n",
        "  plt.imshow(out)\n",
        "\n",
        "\n",
        "plt.figure(figsize=(10,10))\n",
        "\n",
        "content = load_img(content_path).astype('uint8')\n",
        "style = load_img(style_path).astype('uint8')\n",
        "\n",
        "plt.subplot(1, 2, 1)\n",
        "imshow(content, 'Content Image')\n",
        "\n",
        "plt.subplot(1, 2, 2)\n",
        "imshow(style, 'Style Image')\n",
        "plt.show()"
      ],
      "execution_count": null,
      "outputs": []
    },
    {
      "cell_type": "markdown",
      "metadata": {
        "id": "SHrpFr-AbYfE"
      },
      "source": [
        "### Run the Scripts"
      ]
    },
    {
      "cell_type": "code",
      "metadata": {
        "id": "YrcaZmoOakGm"
      },
      "source": [
        "!python run neural_style.py --content {content} --styles {style} --output {output} --iteration {ITERATIONS} --print-iteration --progress-plot\\\n",
        "/ --content-weight-blend {CONTENT_WEIGHT_BLEND} --content-weight {CONTENT_WEIGHT} --style-weight {STYLE_WEIGHT} --style-layer-weight-exp {STYLE_LAYER_WEIGHT_EXP}\\\n",
        "/ --tv-weight {TV_WEIGHT} --learning-rate {LEARNING_RATE} --beta1 {BETA1} --beta2 {BETA2} --eps {EPSILON}"
      ],
      "execution_count": null,
      "outputs": []
    },
    {
      "cell_type": "code",
      "metadata": {
        "id": "Zn-uqkFmakEP"
      },
      "source": [
        ""
      ],
      "execution_count": null,
      "outputs": []
    },
    {
      "cell_type": "code",
      "metadata": {
        "id": "6ZEU0FwiakCO"
      },
      "source": [
        ""
      ],
      "execution_count": null,
      "outputs": []
    }
  ]
}